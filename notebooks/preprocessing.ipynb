{
 "cells": [
  {
   "cell_type": "code",
   "execution_count": 1,
   "id": "initial_id",
   "metadata": {
    "collapsed": true,
    "ExecuteTime": {
     "end_time": "2023-11-07T22:25:56.857328Z",
     "start_time": "2023-11-07T22:25:51.815445Z"
    }
   },
   "outputs": [],
   "source": [
    "import os\n",
    "import pandas as pd\n",
    "import warnings\n",
    "from pydub import AudioSegment\n",
    "from pydub.exceptions import CouldntDecodeError"
   ]
  },
  {
   "cell_type": "code",
   "execution_count": 3,
   "outputs": [],
   "source": [
    "# Convert mp3 to wav in MTAT dataset\n",
    "\n",
    "# Define the source and target directories\n",
    "source_dir = '../data/mtat/Data'\n",
    "target_dir = '../data/mtat/Data/wave_files'\n",
    "\n",
    "# Create the target directory if it doesn't exist\n",
    "if not os.path.exists(target_dir):\n",
    "    os.makedirs(target_dir)\n",
    "\n",
    "# Walk through the source directory\n",
    "for subdir, dirs, files in os.walk(source_dir):\n",
    "    for file in files:\n",
    "        # Check if the current file is an MP3\n",
    "        if file.endswith('.mp3'):\n",
    "            # Construct full file paths\n",
    "            mp3_path = os.path.join(subdir, file)\n",
    "            wav_path = os.path.join(target_dir, file.replace('.mp3', '.wav'))\n",
    "\n",
    "            # Attempt to load the MP3 file with PyDub\n",
    "            try:\n",
    "                audio = AudioSegment.from_mp3(mp3_path)\n",
    "                # Export as WAV using PyDub\n",
    "                audio.export(wav_path, format=\"wav\")\n",
    "            except CouldntDecodeError as e:\n",
    "                warnings.warn(f\"Could not decode file {mp3_path}: {e}\")\n",
    "\n",
    "print(\"Conversion complete.\")"
   ],
   "metadata": {
    "collapsed": false,
    "ExecuteTime": {
     "end_time": "2023-11-07T22:25:58.258482Z",
     "start_time": "2023-11-07T22:25:58.253699Z"
    }
   },
   "id": "fd9bc2f7e6b58322"
  }
 ],
 "metadata": {
  "kernelspec": {
   "display_name": "Python 3",
   "language": "python",
   "name": "python3"
  },
  "language_info": {
   "codemirror_mode": {
    "name": "ipython",
    "version": 2
   },
   "file_extension": ".py",
   "mimetype": "text/x-python",
   "name": "python",
   "nbconvert_exporter": "python",
   "pygments_lexer": "ipython2",
   "version": "2.7.6"
  }
 },
 "nbformat": 4,
 "nbformat_minor": 5
}
