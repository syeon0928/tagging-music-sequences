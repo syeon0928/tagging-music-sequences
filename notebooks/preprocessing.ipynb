{
 "cells": [
  {
   "cell_type": "code",
   "execution_count": 112,
   "outputs": [],
   "source": [
    "from pathlib import Path\n",
    "import pandas as pd\n",
    "import re"
   ],
   "metadata": {
    "collapsed": false,
    "ExecuteTime": {
     "end_time": "2023-11-09T19:00:27.089818Z",
     "start_time": "2023-11-09T19:00:26.897825Z"
    }
   },
   "id": "e3a30595862b635f"
  },
  {
   "cell_type": "markdown",
   "source": [
    "# Preprocessing"
   ],
   "metadata": {
    "collapsed": false
   },
   "id": "bf2732b81a776711"
  },
  {
   "cell_type": "markdown",
   "source": [
    "## Label data"
   ],
   "metadata": {
    "collapsed": false
   },
   "id": "4a327bc4837b90cf"
  },
  {
   "cell_type": "code",
   "execution_count": 113,
   "id": "initial_id",
   "metadata": {
    "collapsed": true,
    "ExecuteTime": {
     "end_time": "2023-11-09T19:00:27.925892Z",
     "start_time": "2023-11-09T19:00:26.963760Z"
    }
   },
   "outputs": [],
   "source": [
    "data_path = Path.cwd()/'..'/'data'\n",
    "\n",
    "# Read metadata file gtzan\n",
    "feature_path = data_path/'gtzan'/'features_30_sec.csv'\n",
    "gtzan_metadata_df = pd.read_csv(feature_path)\n",
    "\n",
    "# Read metadata file mtat\n",
    "annotations_path = data_path/'mtat'/'annotations_final.csv'\n",
    "mtat_metadata_df = pd.read_csv(annotations_path, quotechar='\"', delim_whitespace=True)\n",
    "\n",
    "# Specify cols to keep\n",
    "gtzan_metadata_df = gtzan_metadata_df[['filename', 'label']]\n",
    "mtat_metadata_df = mtat_metadata_df.drop('clip_id', axis=1)\n",
    "\n",
    "# Add source dataset col\n",
    "gtzan_metadata_df['data_origin'] = 0\n",
    "mtat_metadata_df['data_origin'] = 1"
   ]
  },
  {
   "cell_type": "code",
   "execution_count": 114,
   "outputs": [
    {
     "data": {
      "text/plain": "          filename  label  data_origin\n0  blues.00000.wav  blues            0\n1  blues.00001.wav  blues            0\n2  blues.00002.wav  blues            0\n3  blues.00003.wav  blues            0\n4  blues.00004.wav  blues            0",
      "text/html": "<div>\n<style scoped>\n    .dataframe tbody tr th:only-of-type {\n        vertical-align: middle;\n    }\n\n    .dataframe tbody tr th {\n        vertical-align: top;\n    }\n\n    .dataframe thead th {\n        text-align: right;\n    }\n</style>\n<table border=\"1\" class=\"dataframe\">\n  <thead>\n    <tr style=\"text-align: right;\">\n      <th></th>\n      <th>filename</th>\n      <th>label</th>\n      <th>data_origin</th>\n    </tr>\n  </thead>\n  <tbody>\n    <tr>\n      <th>0</th>\n      <td>blues.00000.wav</td>\n      <td>blues</td>\n      <td>0</td>\n    </tr>\n    <tr>\n      <th>1</th>\n      <td>blues.00001.wav</td>\n      <td>blues</td>\n      <td>0</td>\n    </tr>\n    <tr>\n      <th>2</th>\n      <td>blues.00002.wav</td>\n      <td>blues</td>\n      <td>0</td>\n    </tr>\n    <tr>\n      <th>3</th>\n      <td>blues.00003.wav</td>\n      <td>blues</td>\n      <td>0</td>\n    </tr>\n    <tr>\n      <th>4</th>\n      <td>blues.00004.wav</td>\n      <td>blues</td>\n      <td>0</td>\n    </tr>\n  </tbody>\n</table>\n</div>"
     },
     "execution_count": 114,
     "metadata": {},
     "output_type": "execute_result"
    }
   ],
   "source": [
    "gtzan_metadata_df.head()\n"
   ],
   "metadata": {
    "collapsed": false,
    "ExecuteTime": {
     "end_time": "2023-11-09T19:00:27.960906Z",
     "start_time": "2023-11-09T19:00:27.933201Z"
    }
   },
   "id": "17a8bcb68a73501c"
  },
  {
   "cell_type": "code",
   "execution_count": 115,
   "outputs": [],
   "source": [
    "# Define a function to change filename to match our folder structure\n",
    "def apply_regex(filename):\n",
    "    match = re.match(r'([^\\.]+)\\.\\d+\\.wav', filename)\n",
    "    if match:\n",
    "        genre = match.group(1)  \n",
    "        return f\"gtzan/genres_original/{genre}/{filename}\"\n",
    "    return filename\n",
    "\n",
    "gtzan_metadata_df['filename'] = gtzan_metadata_df['filename'].apply(apply_regex)"
   ],
   "metadata": {
    "collapsed": false,
    "ExecuteTime": {
     "end_time": "2023-11-09T19:00:28.025855Z",
     "start_time": "2023-11-09T19:00:27.940818Z"
    }
   },
   "id": "ee8952e35bdc85d6"
  },
  {
   "cell_type": "code",
   "execution_count": 116,
   "outputs": [
    {
     "data": {
      "text/plain": "   no voice  singer  duet  plucking  hard rock  world  bongos  harpsichord  \\\n0         0       0     0         0          0      0       0            0   \n1         0       0     0         0          0      0       0            0   \n2         0       0     0         0          0      0       0            0   \n3         0       0     0         0          0      0       0            0   \n4         0       0     0         0          0      0       0            0   \n\n   female singing  clasical  ...  metal  hip hop  quick  water  baroque  \\\n0               0         0  ...      0        0      0      0        0   \n1               0         0  ...      0        0      0      0        1   \n2               0         0  ...      0        0      0      0        0   \n3               0         0  ...      0        0      0      0        0   \n4               0         0  ...      0        0      0      0        0   \n\n   women  fiddle  english                                           mp3_path  \\\n0      0       0        0  f/american_bach_soloists-j_s__bach_solo_cantat...   \n1      0       0        0  f/american_bach_soloists-j_s__bach_solo_cantat...   \n2      0       0        0  f/american_bach_soloists-j_s__bach_solo_cantat...   \n3      0       0        0  f/american_bach_soloists-j_s__bach_solo_cantat...   \n4      0       0        0  f/american_bach_soloists-j_s__bach_solo_cantat...   \n\n   data_origin  \n0            1  \n1            1  \n2            1  \n3            1  \n4            1  \n\n[5 rows x 190 columns]",
      "text/html": "<div>\n<style scoped>\n    .dataframe tbody tr th:only-of-type {\n        vertical-align: middle;\n    }\n\n    .dataframe tbody tr th {\n        vertical-align: top;\n    }\n\n    .dataframe thead th {\n        text-align: right;\n    }\n</style>\n<table border=\"1\" class=\"dataframe\">\n  <thead>\n    <tr style=\"text-align: right;\">\n      <th></th>\n      <th>no voice</th>\n      <th>singer</th>\n      <th>duet</th>\n      <th>plucking</th>\n      <th>hard rock</th>\n      <th>world</th>\n      <th>bongos</th>\n      <th>harpsichord</th>\n      <th>female singing</th>\n      <th>clasical</th>\n      <th>...</th>\n      <th>metal</th>\n      <th>hip hop</th>\n      <th>quick</th>\n      <th>water</th>\n      <th>baroque</th>\n      <th>women</th>\n      <th>fiddle</th>\n      <th>english</th>\n      <th>mp3_path</th>\n      <th>data_origin</th>\n    </tr>\n  </thead>\n  <tbody>\n    <tr>\n      <th>0</th>\n      <td>0</td>\n      <td>0</td>\n      <td>0</td>\n      <td>0</td>\n      <td>0</td>\n      <td>0</td>\n      <td>0</td>\n      <td>0</td>\n      <td>0</td>\n      <td>0</td>\n      <td>...</td>\n      <td>0</td>\n      <td>0</td>\n      <td>0</td>\n      <td>0</td>\n      <td>0</td>\n      <td>0</td>\n      <td>0</td>\n      <td>0</td>\n      <td>f/american_bach_soloists-j_s__bach_solo_cantat...</td>\n      <td>1</td>\n    </tr>\n    <tr>\n      <th>1</th>\n      <td>0</td>\n      <td>0</td>\n      <td>0</td>\n      <td>0</td>\n      <td>0</td>\n      <td>0</td>\n      <td>0</td>\n      <td>0</td>\n      <td>0</td>\n      <td>0</td>\n      <td>...</td>\n      <td>0</td>\n      <td>0</td>\n      <td>0</td>\n      <td>0</td>\n      <td>1</td>\n      <td>0</td>\n      <td>0</td>\n      <td>0</td>\n      <td>f/american_bach_soloists-j_s__bach_solo_cantat...</td>\n      <td>1</td>\n    </tr>\n    <tr>\n      <th>2</th>\n      <td>0</td>\n      <td>0</td>\n      <td>0</td>\n      <td>0</td>\n      <td>0</td>\n      <td>0</td>\n      <td>0</td>\n      <td>0</td>\n      <td>0</td>\n      <td>0</td>\n      <td>...</td>\n      <td>0</td>\n      <td>0</td>\n      <td>0</td>\n      <td>0</td>\n      <td>0</td>\n      <td>0</td>\n      <td>0</td>\n      <td>0</td>\n      <td>f/american_bach_soloists-j_s__bach_solo_cantat...</td>\n      <td>1</td>\n    </tr>\n    <tr>\n      <th>3</th>\n      <td>0</td>\n      <td>0</td>\n      <td>0</td>\n      <td>0</td>\n      <td>0</td>\n      <td>0</td>\n      <td>0</td>\n      <td>0</td>\n      <td>0</td>\n      <td>0</td>\n      <td>...</td>\n      <td>0</td>\n      <td>0</td>\n      <td>0</td>\n      <td>0</td>\n      <td>0</td>\n      <td>0</td>\n      <td>0</td>\n      <td>0</td>\n      <td>f/american_bach_soloists-j_s__bach_solo_cantat...</td>\n      <td>1</td>\n    </tr>\n    <tr>\n      <th>4</th>\n      <td>0</td>\n      <td>0</td>\n      <td>0</td>\n      <td>0</td>\n      <td>0</td>\n      <td>0</td>\n      <td>0</td>\n      <td>0</td>\n      <td>0</td>\n      <td>0</td>\n      <td>...</td>\n      <td>0</td>\n      <td>0</td>\n      <td>0</td>\n      <td>0</td>\n      <td>0</td>\n      <td>0</td>\n      <td>0</td>\n      <td>0</td>\n      <td>f/american_bach_soloists-j_s__bach_solo_cantat...</td>\n      <td>1</td>\n    </tr>\n  </tbody>\n</table>\n<p>5 rows × 190 columns</p>\n</div>"
     },
     "execution_count": 116,
     "metadata": {},
     "output_type": "execute_result"
    }
   ],
   "source": [
    "mtat_metadata_df.head()"
   ],
   "metadata": {
    "collapsed": false,
    "ExecuteTime": {
     "end_time": "2023-11-09T19:00:28.116749Z",
     "start_time": "2023-11-09T19:00:27.965630Z"
    }
   },
   "id": "e2c6b70861bbb18a"
  },
  {
   "cell_type": "code",
   "execution_count": 117,
   "outputs": [],
   "source": [
    "# adjust path name to be consistent with other df before concatenating\n",
    "mtat_metadata_df['mp3_path'] = [\"mtat/\"]*len(mtat_metadata_df)+mtat_metadata_df['mp3_path'] "
   ],
   "metadata": {
    "collapsed": false,
    "ExecuteTime": {
     "end_time": "2023-11-09T19:00:28.153749Z",
     "start_time": "2023-11-09T19:00:27.987011Z"
    }
   },
   "id": "b86f12991ae28320"
  },
  {
   "cell_type": "code",
   "execution_count": 118,
   "outputs": [
    {
     "data": {
      "text/plain": "label\nblues        100\nclassical    100\ncountry      100\ndisco        100\nhiphop       100\njazz         100\nmetal        100\npop          100\nreggae       100\nrock         100\nName: count, dtype: int64"
     },
     "execution_count": 118,
     "metadata": {},
     "output_type": "execute_result"
    }
   ],
   "source": [
    "gtzan_metadata_df.label.value_counts()"
   ],
   "metadata": {
    "collapsed": false,
    "ExecuteTime": {
     "end_time": "2023-11-09T19:00:28.157549Z",
     "start_time": "2023-11-09T19:00:28.027393Z"
    }
   },
   "id": "62ec814930138cee"
  },
  {
   "cell_type": "code",
   "execution_count": 119,
   "outputs": [
    {
     "data": {
      "text/plain": "     blues  classical  country  disco  hiphop   jazz  metal    pop  reggae  \\\n0     True      False    False  False   False  False  False  False   False   \n1     True      False    False  False   False  False  False  False   False   \n2     True      False    False  False   False  False  False  False   False   \n3     True      False    False  False   False  False  False  False   False   \n4     True      False    False  False   False  False  False  False   False   \n..     ...        ...      ...    ...     ...    ...    ...    ...     ...   \n995  False      False    False  False   False  False  False  False   False   \n996  False      False    False  False   False  False  False  False   False   \n997  False      False    False  False   False  False  False  False   False   \n998  False      False    False  False   False  False  False  False   False   \n999  False      False    False  False   False  False  False  False   False   \n\n      rock  \n0    False  \n1    False  \n2    False  \n3    False  \n4    False  \n..     ...  \n995   True  \n996   True  \n997   True  \n998   True  \n999   True  \n\n[1000 rows x 10 columns]",
      "text/html": "<div>\n<style scoped>\n    .dataframe tbody tr th:only-of-type {\n        vertical-align: middle;\n    }\n\n    .dataframe tbody tr th {\n        vertical-align: top;\n    }\n\n    .dataframe thead th {\n        text-align: right;\n    }\n</style>\n<table border=\"1\" class=\"dataframe\">\n  <thead>\n    <tr style=\"text-align: right;\">\n      <th></th>\n      <th>blues</th>\n      <th>classical</th>\n      <th>country</th>\n      <th>disco</th>\n      <th>hiphop</th>\n      <th>jazz</th>\n      <th>metal</th>\n      <th>pop</th>\n      <th>reggae</th>\n      <th>rock</th>\n    </tr>\n  </thead>\n  <tbody>\n    <tr>\n      <th>0</th>\n      <td>True</td>\n      <td>False</td>\n      <td>False</td>\n      <td>False</td>\n      <td>False</td>\n      <td>False</td>\n      <td>False</td>\n      <td>False</td>\n      <td>False</td>\n      <td>False</td>\n    </tr>\n    <tr>\n      <th>1</th>\n      <td>True</td>\n      <td>False</td>\n      <td>False</td>\n      <td>False</td>\n      <td>False</td>\n      <td>False</td>\n      <td>False</td>\n      <td>False</td>\n      <td>False</td>\n      <td>False</td>\n    </tr>\n    <tr>\n      <th>2</th>\n      <td>True</td>\n      <td>False</td>\n      <td>False</td>\n      <td>False</td>\n      <td>False</td>\n      <td>False</td>\n      <td>False</td>\n      <td>False</td>\n      <td>False</td>\n      <td>False</td>\n    </tr>\n    <tr>\n      <th>3</th>\n      <td>True</td>\n      <td>False</td>\n      <td>False</td>\n      <td>False</td>\n      <td>False</td>\n      <td>False</td>\n      <td>False</td>\n      <td>False</td>\n      <td>False</td>\n      <td>False</td>\n    </tr>\n    <tr>\n      <th>4</th>\n      <td>True</td>\n      <td>False</td>\n      <td>False</td>\n      <td>False</td>\n      <td>False</td>\n      <td>False</td>\n      <td>False</td>\n      <td>False</td>\n      <td>False</td>\n      <td>False</td>\n    </tr>\n    <tr>\n      <th>...</th>\n      <td>...</td>\n      <td>...</td>\n      <td>...</td>\n      <td>...</td>\n      <td>...</td>\n      <td>...</td>\n      <td>...</td>\n      <td>...</td>\n      <td>...</td>\n      <td>...</td>\n    </tr>\n    <tr>\n      <th>995</th>\n      <td>False</td>\n      <td>False</td>\n      <td>False</td>\n      <td>False</td>\n      <td>False</td>\n      <td>False</td>\n      <td>False</td>\n      <td>False</td>\n      <td>False</td>\n      <td>True</td>\n    </tr>\n    <tr>\n      <th>996</th>\n      <td>False</td>\n      <td>False</td>\n      <td>False</td>\n      <td>False</td>\n      <td>False</td>\n      <td>False</td>\n      <td>False</td>\n      <td>False</td>\n      <td>False</td>\n      <td>True</td>\n    </tr>\n    <tr>\n      <th>997</th>\n      <td>False</td>\n      <td>False</td>\n      <td>False</td>\n      <td>False</td>\n      <td>False</td>\n      <td>False</td>\n      <td>False</td>\n      <td>False</td>\n      <td>False</td>\n      <td>True</td>\n    </tr>\n    <tr>\n      <th>998</th>\n      <td>False</td>\n      <td>False</td>\n      <td>False</td>\n      <td>False</td>\n      <td>False</td>\n      <td>False</td>\n      <td>False</td>\n      <td>False</td>\n      <td>False</td>\n      <td>True</td>\n    </tr>\n    <tr>\n      <th>999</th>\n      <td>False</td>\n      <td>False</td>\n      <td>False</td>\n      <td>False</td>\n      <td>False</td>\n      <td>False</td>\n      <td>False</td>\n      <td>False</td>\n      <td>False</td>\n      <td>True</td>\n    </tr>\n  </tbody>\n</table>\n<p>1000 rows × 10 columns</p>\n</div>"
     },
     "execution_count": 119,
     "metadata": {},
     "output_type": "execute_result"
    }
   ],
   "source": [
    "# get dummies for labels\n",
    "dummies = pd.get_dummies(gtzan_metadata_df['label'])\n",
    "dummies"
   ],
   "metadata": {
    "collapsed": false,
    "ExecuteTime": {
     "end_time": "2023-11-09T19:00:28.256991Z",
     "start_time": "2023-11-09T19:00:28.037130Z"
    }
   },
   "id": "ee5c5e3afbe03839"
  },
  {
   "cell_type": "code",
   "execution_count": 120,
   "outputs": [],
   "source": [
    "# join dummies with original and drop label cols (one hot encoding)\n",
    "gtzan_metadata_df.drop('label', axis=1, inplace=True)\n",
    "gtzan_metadata_df = gtzan_metadata_df.join(dummies)"
   ],
   "metadata": {
    "collapsed": false,
    "ExecuteTime": {
     "end_time": "2023-11-09T19:00:28.257841Z",
     "start_time": "2023-11-09T19:00:28.072133Z"
    }
   },
   "id": "35a45c4f753348e"
  },
  {
   "cell_type": "code",
   "execution_count": 121,
   "outputs": [
    {
     "data": {
      "text/plain": "False"
     },
     "execution_count": 121,
     "metadata": {},
     "output_type": "execute_result"
    }
   ],
   "source": [
    "# check if all columns of gtzan are in mtat\n",
    "gtzan_metadata_df.columns.tolist() in mtat_metadata_df.columns.tolist()"
   ],
   "metadata": {
    "collapsed": false,
    "ExecuteTime": {
     "end_time": "2023-11-09T19:00:28.258527Z",
     "start_time": "2023-11-09T19:00:28.083324Z"
    }
   },
   "id": "568feee39b9fa17d"
  },
  {
   "cell_type": "code",
   "execution_count": 122,
   "outputs": [],
   "source": [
    "# Making column lists\n",
    "mtat_col = set(mtat_metadata_df.columns.tolist())\n",
    "gtzan_col = set(gtzan_metadata_df.columns.tolist())"
   ],
   "metadata": {
    "collapsed": false,
    "ExecuteTime": {
     "end_time": "2023-11-09T19:00:28.286274Z",
     "start_time": "2023-11-09T19:00:28.105458Z"
    }
   },
   "id": "5d67fa349d0c6f07"
  },
  {
   "cell_type": "code",
   "execution_count": 123,
   "outputs": [
    {
     "data": {
      "text/plain": "{'filename', 'hiphop'}"
     },
     "execution_count": 123,
     "metadata": {},
     "output_type": "execute_result"
    }
   ],
   "source": [
    "# Finding cols that are not in mtat\n",
    "gtzan_col - mtat_col"
   ],
   "metadata": {
    "collapsed": false,
    "ExecuteTime": {
     "end_time": "2023-11-09T19:00:28.288479Z",
     "start_time": "2023-11-09T19:00:28.111533Z"
    }
   },
   "id": "19ae61de26484180"
  },
  {
   "cell_type": "code",
   "execution_count": 124,
   "outputs": [
    {
     "data": {
      "text/plain": "Index(['no voice', 'singer', 'duet', 'plucking', 'hard rock', 'world',\n       'bongos', 'harpsichord', 'female singing', 'clasical',\n       ...\n       'metal', 'hip hop', 'quick', 'water', 'baroque', 'women', 'fiddle',\n       'english', 'mp3_path', 'data_origin'],\n      dtype='object', length=190)"
     },
     "execution_count": 124,
     "metadata": {},
     "output_type": "execute_result"
    }
   ],
   "source": [
    "mtat_metadata_df.columns"
   ],
   "metadata": {
    "collapsed": false,
    "ExecuteTime": {
     "end_time": "2023-11-09T19:00:28.289938Z",
     "start_time": "2023-11-09T19:00:28.119220Z"
    }
   },
   "id": "95c504b5bfc7da1c"
  },
  {
   "cell_type": "code",
   "execution_count": 125,
   "outputs": [],
   "source": [
    "# Rename cols so that they match other df\n",
    "mtat_metadata_df.rename(columns={'hip hop': 'hiphop', 'mp3_path':'filename'}, inplace=True)"
   ],
   "metadata": {
    "collapsed": false,
    "ExecuteTime": {
     "end_time": "2023-11-09T19:00:28.293273Z",
     "start_time": "2023-11-09T19:00:28.126249Z"
    }
   },
   "id": "2ee69a66fd58a0f0"
  },
  {
   "cell_type": "code",
   "execution_count": 126,
   "outputs": [
    {
     "data": {
      "text/plain": "set()"
     },
     "execution_count": 126,
     "metadata": {},
     "output_type": "execute_result"
    }
   ],
   "source": [
    "# check if problem solved\n",
    "mtat_col = set(mtat_metadata_df.columns.tolist())\n",
    "gtzan_col = set(gtzan_metadata_df.columns.tolist())\n",
    "gtzan_col - mtat_col"
   ],
   "metadata": {
    "collapsed": false,
    "ExecuteTime": {
     "end_time": "2023-11-09T19:00:28.293846Z",
     "start_time": "2023-11-09T19:00:28.134488Z"
    }
   },
   "id": "437415262739e167"
  },
  {
   "cell_type": "code",
   "execution_count": 127,
   "outputs": [],
   "source": [
    "# Concatenate dataframes together\n",
    "df_join = pd.concat([mtat_metadata_df, gtzan_metadata_df], axis=0, join='outer', ignore_index=True)"
   ],
   "metadata": {
    "collapsed": false,
    "ExecuteTime": {
     "end_time": "2023-11-09T19:00:28.359902Z",
     "start_time": "2023-11-09T19:00:28.144824Z"
    }
   },
   "id": "c3987b3835ec67bd"
  },
  {
   "cell_type": "code",
   "execution_count": 128,
   "outputs": [
    {
     "name": "stdout",
     "output_type": "stream",
     "text": [
      "classical                                                0\n",
      "jazz                                                     0\n",
      "country                                                  0\n",
      "reggae                                                   0\n",
      "disco                                                    0\n",
      "pop                                                      0\n",
      "blues                                                    1\n",
      "rock                                                     0\n",
      "metal                                                    0\n",
      "hiphop                                                   0\n",
      "filename       gtzan/genres_original/blues/blues.00027.wav\n",
      "data_origin                                              0\n",
      "Name: 25890, dtype: object\n"
     ]
    }
   ],
   "source": [
    "# Checking if gtzan data is merged nicely into mtat\n",
    "print(df_join.iloc[25890, :].dropna())"
   ],
   "metadata": {
    "collapsed": false,
    "ExecuteTime": {
     "end_time": "2023-11-09T19:00:28.487367Z",
     "start_time": "2023-11-09T19:00:28.234459Z"
    }
   },
   "id": "ffc782e27696b840"
  },
  {
   "cell_type": "code",
   "execution_count": 129,
   "outputs": [
    {
     "data": {
      "text/plain": "       no voice  singer  duet  plucking  hard rock  world  bongos  \\\n26858       NaN     NaN   NaN       NaN        NaN    NaN     NaN   \n26859       NaN     NaN   NaN       NaN        NaN    NaN     NaN   \n26860       NaN     NaN   NaN       NaN        NaN    NaN     NaN   \n26861       NaN     NaN   NaN       NaN        NaN    NaN     NaN   \n26862       NaN     NaN   NaN       NaN        NaN    NaN     NaN   \n\n       harpsichord  female singing  clasical  ...  metal  hiphop  quick  \\\n26858          NaN             NaN       NaN  ...      0       0    NaN   \n26859          NaN             NaN       NaN  ...      0       0    NaN   \n26860          NaN             NaN       NaN  ...      0       0    NaN   \n26861          NaN             NaN       NaN  ...      0       0    NaN   \n26862          NaN             NaN       NaN  ...      0       0    NaN   \n\n       water  baroque  women  fiddle  english  \\\n26858    NaN      NaN    NaN     NaN      NaN   \n26859    NaN      NaN    NaN     NaN      NaN   \n26860    NaN      NaN    NaN     NaN      NaN   \n26861    NaN      NaN    NaN     NaN      NaN   \n26862    NaN      NaN    NaN     NaN      NaN   \n\n                                        filename  data_origin  \n26858  gtzan/genres_original/rock/rock.00095.wav            0  \n26859  gtzan/genres_original/rock/rock.00096.wav            0  \n26860  gtzan/genres_original/rock/rock.00097.wav            0  \n26861  gtzan/genres_original/rock/rock.00098.wav            0  \n26862  gtzan/genres_original/rock/rock.00099.wav            0  \n\n[5 rows x 190 columns]",
      "text/html": "<div>\n<style scoped>\n    .dataframe tbody tr th:only-of-type {\n        vertical-align: middle;\n    }\n\n    .dataframe tbody tr th {\n        vertical-align: top;\n    }\n\n    .dataframe thead th {\n        text-align: right;\n    }\n</style>\n<table border=\"1\" class=\"dataframe\">\n  <thead>\n    <tr style=\"text-align: right;\">\n      <th></th>\n      <th>no voice</th>\n      <th>singer</th>\n      <th>duet</th>\n      <th>plucking</th>\n      <th>hard rock</th>\n      <th>world</th>\n      <th>bongos</th>\n      <th>harpsichord</th>\n      <th>female singing</th>\n      <th>clasical</th>\n      <th>...</th>\n      <th>metal</th>\n      <th>hiphop</th>\n      <th>quick</th>\n      <th>water</th>\n      <th>baroque</th>\n      <th>women</th>\n      <th>fiddle</th>\n      <th>english</th>\n      <th>filename</th>\n      <th>data_origin</th>\n    </tr>\n  </thead>\n  <tbody>\n    <tr>\n      <th>26858</th>\n      <td>NaN</td>\n      <td>NaN</td>\n      <td>NaN</td>\n      <td>NaN</td>\n      <td>NaN</td>\n      <td>NaN</td>\n      <td>NaN</td>\n      <td>NaN</td>\n      <td>NaN</td>\n      <td>NaN</td>\n      <td>...</td>\n      <td>0</td>\n      <td>0</td>\n      <td>NaN</td>\n      <td>NaN</td>\n      <td>NaN</td>\n      <td>NaN</td>\n      <td>NaN</td>\n      <td>NaN</td>\n      <td>gtzan/genres_original/rock/rock.00095.wav</td>\n      <td>0</td>\n    </tr>\n    <tr>\n      <th>26859</th>\n      <td>NaN</td>\n      <td>NaN</td>\n      <td>NaN</td>\n      <td>NaN</td>\n      <td>NaN</td>\n      <td>NaN</td>\n      <td>NaN</td>\n      <td>NaN</td>\n      <td>NaN</td>\n      <td>NaN</td>\n      <td>...</td>\n      <td>0</td>\n      <td>0</td>\n      <td>NaN</td>\n      <td>NaN</td>\n      <td>NaN</td>\n      <td>NaN</td>\n      <td>NaN</td>\n      <td>NaN</td>\n      <td>gtzan/genres_original/rock/rock.00096.wav</td>\n      <td>0</td>\n    </tr>\n    <tr>\n      <th>26860</th>\n      <td>NaN</td>\n      <td>NaN</td>\n      <td>NaN</td>\n      <td>NaN</td>\n      <td>NaN</td>\n      <td>NaN</td>\n      <td>NaN</td>\n      <td>NaN</td>\n      <td>NaN</td>\n      <td>NaN</td>\n      <td>...</td>\n      <td>0</td>\n      <td>0</td>\n      <td>NaN</td>\n      <td>NaN</td>\n      <td>NaN</td>\n      <td>NaN</td>\n      <td>NaN</td>\n      <td>NaN</td>\n      <td>gtzan/genres_original/rock/rock.00097.wav</td>\n      <td>0</td>\n    </tr>\n    <tr>\n      <th>26861</th>\n      <td>NaN</td>\n      <td>NaN</td>\n      <td>NaN</td>\n      <td>NaN</td>\n      <td>NaN</td>\n      <td>NaN</td>\n      <td>NaN</td>\n      <td>NaN</td>\n      <td>NaN</td>\n      <td>NaN</td>\n      <td>...</td>\n      <td>0</td>\n      <td>0</td>\n      <td>NaN</td>\n      <td>NaN</td>\n      <td>NaN</td>\n      <td>NaN</td>\n      <td>NaN</td>\n      <td>NaN</td>\n      <td>gtzan/genres_original/rock/rock.00098.wav</td>\n      <td>0</td>\n    </tr>\n    <tr>\n      <th>26862</th>\n      <td>NaN</td>\n      <td>NaN</td>\n      <td>NaN</td>\n      <td>NaN</td>\n      <td>NaN</td>\n      <td>NaN</td>\n      <td>NaN</td>\n      <td>NaN</td>\n      <td>NaN</td>\n      <td>NaN</td>\n      <td>...</td>\n      <td>0</td>\n      <td>0</td>\n      <td>NaN</td>\n      <td>NaN</td>\n      <td>NaN</td>\n      <td>NaN</td>\n      <td>NaN</td>\n      <td>NaN</td>\n      <td>gtzan/genres_original/rock/rock.00099.wav</td>\n      <td>0</td>\n    </tr>\n  </tbody>\n</table>\n<p>5 rows × 190 columns</p>\n</div>"
     },
     "execution_count": 129,
     "metadata": {},
     "output_type": "execute_result"
    }
   ],
   "source": [
    "df_join.tail()"
   ],
   "metadata": {
    "collapsed": false,
    "ExecuteTime": {
     "end_time": "2023-11-09T19:00:28.509026Z",
     "start_time": "2023-11-09T19:00:28.240891Z"
    }
   },
   "id": "cfeca1605bc475e2"
  },
  {
   "cell_type": "code",
   "execution_count": 130,
   "outputs": [],
   "source": [
    "# fill NaNs with 0\n",
    "df_join.fillna(0, inplace=True)"
   ],
   "metadata": {
    "collapsed": false,
    "ExecuteTime": {
     "end_time": "2023-11-09T19:00:28.561043Z",
     "start_time": "2023-11-09T19:00:28.264057Z"
    }
   },
   "id": "8617a46076557165"
  },
  {
   "cell_type": "code",
   "execution_count": 131,
   "outputs": [
    {
     "data": {
      "text/plain": "0"
     },
     "execution_count": 131,
     "metadata": {},
     "output_type": "execute_result"
    }
   ],
   "source": [
    "# checking if all NaNs have been handled\n",
    "df_join.isnull().sum().sum()"
   ],
   "metadata": {
    "collapsed": false,
    "ExecuteTime": {
     "end_time": "2023-11-09T19:00:28.561564Z",
     "start_time": "2023-11-09T19:00:28.335391Z"
    }
   },
   "id": "1e28eb937ccadb9c"
  },
  {
   "cell_type": "code",
   "execution_count": 132,
   "outputs": [],
   "source": [
    "for col in df_join.select_dtypes(include=['float']).columns:\n",
    "    df_join[col] = df_join[col].astype('int64') "
   ],
   "metadata": {
    "collapsed": false,
    "ExecuteTime": {
     "end_time": "2023-11-09T19:00:28.729120Z",
     "start_time": "2023-11-09T19:00:28.364064Z"
    }
   },
   "id": "1eeb025e1be5adc3"
  },
  {
   "cell_type": "code",
   "execution_count": 133,
   "outputs": [
    {
     "data": {
      "text/plain": "no voice        int64\nsinger          int64\nduet            int64\nplucking        int64\nhard rock       int64\n                ...  \nwomen           int64\nfiddle          int64\nenglish         int64\nfilename       object\ndata_origin     int64\nLength: 190, dtype: object"
     },
     "execution_count": 133,
     "metadata": {},
     "output_type": "execute_result"
    }
   ],
   "source": [
    "df_join.dtypes\n"
   ],
   "metadata": {
    "collapsed": false,
    "ExecuteTime": {
     "end_time": "2023-11-09T19:00:28.735104Z",
     "start_time": "2023-11-09T19:00:28.586936Z"
    }
   },
   "id": "7a587152f868fa4a"
  },
  {
   "cell_type": "code",
   "execution_count": 134,
   "outputs": [],
   "source": [
    "df_join.to_csv('../data/label.csv')"
   ],
   "metadata": {
    "collapsed": false,
    "ExecuteTime": {
     "end_time": "2023-11-09T19:00:30.283512Z",
     "start_time": "2023-11-09T19:00:28.605187Z"
    }
   },
   "id": "b892c89c209277ac"
  },
  {
   "cell_type": "markdown",
   "source": [
    "## Audio data"
   ],
   "metadata": {
    "collapsed": false
   },
   "id": "a640f01f5942741a"
  }
 ],
 "metadata": {
  "kernelspec": {
   "display_name": "Python 3",
   "language": "python",
   "name": "python3"
  },
  "language_info": {
   "codemirror_mode": {
    "name": "ipython",
    "version": 2
   },
   "file_extension": ".py",
   "mimetype": "text/x-python",
   "name": "python",
   "nbconvert_exporter": "python",
   "pygments_lexer": "ipython2",
   "version": "2.7.6"
  }
 },
 "nbformat": 4,
 "nbformat_minor": 5
}
