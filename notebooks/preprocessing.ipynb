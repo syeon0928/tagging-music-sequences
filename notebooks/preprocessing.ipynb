{
 "cells": [
  {
   "cell_type": "code",
   "execution_count": 1,
   "outputs": [],
   "source": [
    "from pathlib import Path\n",
    "import pandas as pd\n",
    "import re"
   ],
   "metadata": {
    "collapsed": false,
    "ExecuteTime": {
     "end_time": "2023-11-09T21:06:33.713359100Z",
     "start_time": "2023-11-09T21:06:32.628170800Z"
    }
   },
   "id": "e3a30595862b635f"
  },
  {
   "cell_type": "markdown",
   "source": [
    "# Preprocessing"
   ],
   "metadata": {
    "collapsed": false
   },
   "id": "bf2732b81a776711"
  },
  {
   "cell_type": "markdown",
   "source": [
    "## Label data"
   ],
   "metadata": {
    "collapsed": false
   },
   "id": "4a327bc4837b90cf"
  },
  {
   "cell_type": "code",
   "execution_count": 2,
   "id": "initial_id",
   "metadata": {
    "collapsed": true,
    "ExecuteTime": {
     "end_time": "2023-11-09T21:06:34.831066Z",
     "start_time": "2023-11-09T21:06:33.718346300Z"
    }
   },
   "outputs": [],
   "source": [
    "data_path = Path.cwd()/'..'/'data'\n",
    "\n",
    "# Read metadata file gtzan\n",
    "feature_path = data_path/'gtzan'/'features_30_sec.csv'\n",
    "gtzan_metadata_df = pd.read_csv(feature_path)\n",
    "\n",
    "# Read metadata file mtat\n",
    "annotations_path = data_path/'mtat'/'annotations_final.csv'\n",
    "mtat_metadata_df = pd.read_csv(annotations_path, quotechar='\"', delim_whitespace=True)\n",
    "\n",
    "# Specify cols to keep\n",
    "gtzan_metadata_df = gtzan_metadata_df[['filename', 'label']]\n",
    "mtat_metadata_df = mtat_metadata_df.drop('clip_id', axis=1)\n",
    "\n",
    "# Add source dataset col\n",
    "gtzan_metadata_df['data_origin'] = 0\n",
    "mtat_metadata_df['data_origin'] = 1"
   ]
  },
  {
   "cell_type": "code",
   "execution_count": 3,
   "outputs": [
    {
     "data": {
      "text/plain": "          filename  label  data_origin\n0  blues.00000.wav  blues            0\n1  blues.00001.wav  blues            0\n2  blues.00002.wav  blues            0\n3  blues.00003.wav  blues            0\n4  blues.00004.wav  blues            0",
      "text/html": "<div>\n<style scoped>\n    .dataframe tbody tr th:only-of-type {\n        vertical-align: middle;\n    }\n\n    .dataframe tbody tr th {\n        vertical-align: top;\n    }\n\n    .dataframe thead th {\n        text-align: right;\n    }\n</style>\n<table border=\"1\" class=\"dataframe\">\n  <thead>\n    <tr style=\"text-align: right;\">\n      <th></th>\n      <th>filename</th>\n      <th>label</th>\n      <th>data_origin</th>\n    </tr>\n  </thead>\n  <tbody>\n    <tr>\n      <th>0</th>\n      <td>blues.00000.wav</td>\n      <td>blues</td>\n      <td>0</td>\n    </tr>\n    <tr>\n      <th>1</th>\n      <td>blues.00001.wav</td>\n      <td>blues</td>\n      <td>0</td>\n    </tr>\n    <tr>\n      <th>2</th>\n      <td>blues.00002.wav</td>\n      <td>blues</td>\n      <td>0</td>\n    </tr>\n    <tr>\n      <th>3</th>\n      <td>blues.00003.wav</td>\n      <td>blues</td>\n      <td>0</td>\n    </tr>\n    <tr>\n      <th>4</th>\n      <td>blues.00004.wav</td>\n      <td>blues</td>\n      <td>0</td>\n    </tr>\n  </tbody>\n</table>\n</div>"
     },
     "execution_count": 3,
     "metadata": {},
     "output_type": "execute_result"
    }
   ],
   "source": [
    "gtzan_metadata_df.head()\n"
   ],
   "metadata": {
    "collapsed": false,
    "ExecuteTime": {
     "end_time": "2023-11-09T21:06:34.868308500Z",
     "start_time": "2023-11-09T21:06:34.834061800Z"
    }
   },
   "id": "17a8bcb68a73501c"
  },
  {
   "cell_type": "code",
   "execution_count": 4,
   "outputs": [],
   "source": [
    "# Define a function to change filename to match our folder structure\n",
    "def apply_regex(filename):\n",
    "    match = re.match(r'([^\\.]+)\\.\\d+\\.wav', filename)\n",
    "    if match:\n",
    "        genre = match.group(1)  \n",
    "        return f\"gtzan/genres_original/{genre}/{filename}\"\n",
    "    return filename\n",
    "\n",
    "gtzan_metadata_df['filename'] = gtzan_metadata_df['filename'].apply(apply_regex)"
   ],
   "metadata": {
    "collapsed": false,
    "ExecuteTime": {
     "end_time": "2023-11-09T21:06:34.869309800Z",
     "start_time": "2023-11-09T21:06:34.855216700Z"
    }
   },
   "id": "ee8952e35bdc85d6"
  },
  {
   "cell_type": "code",
   "execution_count": 5,
   "outputs": [
    {
     "data": {
      "text/plain": "   no voice  singer  duet  plucking  hard rock  world  bongos  harpsichord  \\\n0         0       0     0         0          0      0       0            0   \n1         0       0     0         0          0      0       0            0   \n2         0       0     0         0          0      0       0            0   \n3         0       0     0         0          0      0       0            0   \n4         0       0     0         0          0      0       0            0   \n\n   female singing  clasical  ...  metal  hip hop  quick  water  baroque  \\\n0               0         0  ...      0        0      0      0        0   \n1               0         0  ...      0        0      0      0        1   \n2               0         0  ...      0        0      0      0        0   \n3               0         0  ...      0        0      0      0        0   \n4               0         0  ...      0        0      0      0        0   \n\n   women  fiddle  english                                           mp3_path  \\\n0      0       0        0  f/american_bach_soloists-j_s__bach_solo_cantat...   \n1      0       0        0  f/american_bach_soloists-j_s__bach_solo_cantat...   \n2      0       0        0  f/american_bach_soloists-j_s__bach_solo_cantat...   \n3      0       0        0  f/american_bach_soloists-j_s__bach_solo_cantat...   \n4      0       0        0  f/american_bach_soloists-j_s__bach_solo_cantat...   \n\n   data_origin  \n0            1  \n1            1  \n2            1  \n3            1  \n4            1  \n\n[5 rows x 190 columns]",
      "text/html": "<div>\n<style scoped>\n    .dataframe tbody tr th:only-of-type {\n        vertical-align: middle;\n    }\n\n    .dataframe tbody tr th {\n        vertical-align: top;\n    }\n\n    .dataframe thead th {\n        text-align: right;\n    }\n</style>\n<table border=\"1\" class=\"dataframe\">\n  <thead>\n    <tr style=\"text-align: right;\">\n      <th></th>\n      <th>no voice</th>\n      <th>singer</th>\n      <th>duet</th>\n      <th>plucking</th>\n      <th>hard rock</th>\n      <th>world</th>\n      <th>bongos</th>\n      <th>harpsichord</th>\n      <th>female singing</th>\n      <th>clasical</th>\n      <th>...</th>\n      <th>metal</th>\n      <th>hip hop</th>\n      <th>quick</th>\n      <th>water</th>\n      <th>baroque</th>\n      <th>women</th>\n      <th>fiddle</th>\n      <th>english</th>\n      <th>mp3_path</th>\n      <th>data_origin</th>\n    </tr>\n  </thead>\n  <tbody>\n    <tr>\n      <th>0</th>\n      <td>0</td>\n      <td>0</td>\n      <td>0</td>\n      <td>0</td>\n      <td>0</td>\n      <td>0</td>\n      <td>0</td>\n      <td>0</td>\n      <td>0</td>\n      <td>0</td>\n      <td>...</td>\n      <td>0</td>\n      <td>0</td>\n      <td>0</td>\n      <td>0</td>\n      <td>0</td>\n      <td>0</td>\n      <td>0</td>\n      <td>0</td>\n      <td>f/american_bach_soloists-j_s__bach_solo_cantat...</td>\n      <td>1</td>\n    </tr>\n    <tr>\n      <th>1</th>\n      <td>0</td>\n      <td>0</td>\n      <td>0</td>\n      <td>0</td>\n      <td>0</td>\n      <td>0</td>\n      <td>0</td>\n      <td>0</td>\n      <td>0</td>\n      <td>0</td>\n      <td>...</td>\n      <td>0</td>\n      <td>0</td>\n      <td>0</td>\n      <td>0</td>\n      <td>1</td>\n      <td>0</td>\n      <td>0</td>\n      <td>0</td>\n      <td>f/american_bach_soloists-j_s__bach_solo_cantat...</td>\n      <td>1</td>\n    </tr>\n    <tr>\n      <th>2</th>\n      <td>0</td>\n      <td>0</td>\n      <td>0</td>\n      <td>0</td>\n      <td>0</td>\n      <td>0</td>\n      <td>0</td>\n      <td>0</td>\n      <td>0</td>\n      <td>0</td>\n      <td>...</td>\n      <td>0</td>\n      <td>0</td>\n      <td>0</td>\n      <td>0</td>\n      <td>0</td>\n      <td>0</td>\n      <td>0</td>\n      <td>0</td>\n      <td>f/american_bach_soloists-j_s__bach_solo_cantat...</td>\n      <td>1</td>\n    </tr>\n    <tr>\n      <th>3</th>\n      <td>0</td>\n      <td>0</td>\n      <td>0</td>\n      <td>0</td>\n      <td>0</td>\n      <td>0</td>\n      <td>0</td>\n      <td>0</td>\n      <td>0</td>\n      <td>0</td>\n      <td>...</td>\n      <td>0</td>\n      <td>0</td>\n      <td>0</td>\n      <td>0</td>\n      <td>0</td>\n      <td>0</td>\n      <td>0</td>\n      <td>0</td>\n      <td>f/american_bach_soloists-j_s__bach_solo_cantat...</td>\n      <td>1</td>\n    </tr>\n    <tr>\n      <th>4</th>\n      <td>0</td>\n      <td>0</td>\n      <td>0</td>\n      <td>0</td>\n      <td>0</td>\n      <td>0</td>\n      <td>0</td>\n      <td>0</td>\n      <td>0</td>\n      <td>0</td>\n      <td>...</td>\n      <td>0</td>\n      <td>0</td>\n      <td>0</td>\n      <td>0</td>\n      <td>0</td>\n      <td>0</td>\n      <td>0</td>\n      <td>0</td>\n      <td>f/american_bach_soloists-j_s__bach_solo_cantat...</td>\n      <td>1</td>\n    </tr>\n  </tbody>\n</table>\n<p>5 rows × 190 columns</p>\n</div>"
     },
     "execution_count": 5,
     "metadata": {},
     "output_type": "execute_result"
    }
   ],
   "source": [
    "mtat_metadata_df.head()"
   ],
   "metadata": {
    "collapsed": false,
    "ExecuteTime": {
     "end_time": "2023-11-09T21:06:34.980721500Z",
     "start_time": "2023-11-09T21:06:34.869309800Z"
    }
   },
   "id": "e2c6b70861bbb18a"
  },
  {
   "cell_type": "code",
   "execution_count": 6,
   "outputs": [],
   "source": [
    "# adjust path name to be consistent with other df before concatenating\n",
    "mtat_metadata_df['mp3_path'] = [\"mtat/\"]*len(mtat_metadata_df)+mtat_metadata_df['mp3_path'] "
   ],
   "metadata": {
    "collapsed": false,
    "ExecuteTime": {
     "end_time": "2023-11-09T21:06:35.068230800Z",
     "start_time": "2023-11-09T21:06:34.899015200Z"
    }
   },
   "id": "b86f12991ae28320"
  },
  {
   "cell_type": "code",
   "execution_count": 7,
   "outputs": [
    {
     "data": {
      "text/plain": "label\nblues        100\nclassical    100\ncountry      100\ndisco        100\nhiphop       100\njazz         100\nmetal        100\npop          100\nreggae       100\nrock         100\nName: count, dtype: int64"
     },
     "execution_count": 7,
     "metadata": {},
     "output_type": "execute_result"
    }
   ],
   "source": [
    "gtzan_metadata_df.label.value_counts()"
   ],
   "metadata": {
    "collapsed": false,
    "ExecuteTime": {
     "end_time": "2023-11-09T21:06:35.075245400Z",
     "start_time": "2023-11-09T21:06:34.932638Z"
    }
   },
   "id": "62ec814930138cee"
  },
  {
   "cell_type": "code",
   "execution_count": 8,
   "outputs": [
    {
     "data": {
      "text/plain": "     blues  classical  country  disco  hiphop   jazz  metal    pop  reggae  \\\n0     True      False    False  False   False  False  False  False   False   \n1     True      False    False  False   False  False  False  False   False   \n2     True      False    False  False   False  False  False  False   False   \n3     True      False    False  False   False  False  False  False   False   \n4     True      False    False  False   False  False  False  False   False   \n..     ...        ...      ...    ...     ...    ...    ...    ...     ...   \n995  False      False    False  False   False  False  False  False   False   \n996  False      False    False  False   False  False  False  False   False   \n997  False      False    False  False   False  False  False  False   False   \n998  False      False    False  False   False  False  False  False   False   \n999  False      False    False  False   False  False  False  False   False   \n\n      rock  \n0    False  \n1    False  \n2    False  \n3    False  \n4    False  \n..     ...  \n995   True  \n996   True  \n997   True  \n998   True  \n999   True  \n\n[1000 rows x 10 columns]",
      "text/html": "<div>\n<style scoped>\n    .dataframe tbody tr th:only-of-type {\n        vertical-align: middle;\n    }\n\n    .dataframe tbody tr th {\n        vertical-align: top;\n    }\n\n    .dataframe thead th {\n        text-align: right;\n    }\n</style>\n<table border=\"1\" class=\"dataframe\">\n  <thead>\n    <tr style=\"text-align: right;\">\n      <th></th>\n      <th>blues</th>\n      <th>classical</th>\n      <th>country</th>\n      <th>disco</th>\n      <th>hiphop</th>\n      <th>jazz</th>\n      <th>metal</th>\n      <th>pop</th>\n      <th>reggae</th>\n      <th>rock</th>\n    </tr>\n  </thead>\n  <tbody>\n    <tr>\n      <th>0</th>\n      <td>True</td>\n      <td>False</td>\n      <td>False</td>\n      <td>False</td>\n      <td>False</td>\n      <td>False</td>\n      <td>False</td>\n      <td>False</td>\n      <td>False</td>\n      <td>False</td>\n    </tr>\n    <tr>\n      <th>1</th>\n      <td>True</td>\n      <td>False</td>\n      <td>False</td>\n      <td>False</td>\n      <td>False</td>\n      <td>False</td>\n      <td>False</td>\n      <td>False</td>\n      <td>False</td>\n      <td>False</td>\n    </tr>\n    <tr>\n      <th>2</th>\n      <td>True</td>\n      <td>False</td>\n      <td>False</td>\n      <td>False</td>\n      <td>False</td>\n      <td>False</td>\n      <td>False</td>\n      <td>False</td>\n      <td>False</td>\n      <td>False</td>\n    </tr>\n    <tr>\n      <th>3</th>\n      <td>True</td>\n      <td>False</td>\n      <td>False</td>\n      <td>False</td>\n      <td>False</td>\n      <td>False</td>\n      <td>False</td>\n      <td>False</td>\n      <td>False</td>\n      <td>False</td>\n    </tr>\n    <tr>\n      <th>4</th>\n      <td>True</td>\n      <td>False</td>\n      <td>False</td>\n      <td>False</td>\n      <td>False</td>\n      <td>False</td>\n      <td>False</td>\n      <td>False</td>\n      <td>False</td>\n      <td>False</td>\n    </tr>\n    <tr>\n      <th>...</th>\n      <td>...</td>\n      <td>...</td>\n      <td>...</td>\n      <td>...</td>\n      <td>...</td>\n      <td>...</td>\n      <td>...</td>\n      <td>...</td>\n      <td>...</td>\n      <td>...</td>\n    </tr>\n    <tr>\n      <th>995</th>\n      <td>False</td>\n      <td>False</td>\n      <td>False</td>\n      <td>False</td>\n      <td>False</td>\n      <td>False</td>\n      <td>False</td>\n      <td>False</td>\n      <td>False</td>\n      <td>True</td>\n    </tr>\n    <tr>\n      <th>996</th>\n      <td>False</td>\n      <td>False</td>\n      <td>False</td>\n      <td>False</td>\n      <td>False</td>\n      <td>False</td>\n      <td>False</td>\n      <td>False</td>\n      <td>False</td>\n      <td>True</td>\n    </tr>\n    <tr>\n      <th>997</th>\n      <td>False</td>\n      <td>False</td>\n      <td>False</td>\n      <td>False</td>\n      <td>False</td>\n      <td>False</td>\n      <td>False</td>\n      <td>False</td>\n      <td>False</td>\n      <td>True</td>\n    </tr>\n    <tr>\n      <th>998</th>\n      <td>False</td>\n      <td>False</td>\n      <td>False</td>\n      <td>False</td>\n      <td>False</td>\n      <td>False</td>\n      <td>False</td>\n      <td>False</td>\n      <td>False</td>\n      <td>True</td>\n    </tr>\n    <tr>\n      <th>999</th>\n      <td>False</td>\n      <td>False</td>\n      <td>False</td>\n      <td>False</td>\n      <td>False</td>\n      <td>False</td>\n      <td>False</td>\n      <td>False</td>\n      <td>False</td>\n      <td>True</td>\n    </tr>\n  </tbody>\n</table>\n<p>1000 rows × 10 columns</p>\n</div>"
     },
     "execution_count": 8,
     "metadata": {},
     "output_type": "execute_result"
    }
   ],
   "source": [
    "# get dummies for labels\n",
    "dummies = pd.get_dummies(gtzan_metadata_df['label'])\n",
    "dummies"
   ],
   "metadata": {
    "collapsed": false,
    "ExecuteTime": {
     "end_time": "2023-11-09T21:06:35.078637900Z",
     "start_time": "2023-11-09T21:06:34.943858500Z"
    }
   },
   "id": "ee5c5e3afbe03839"
  },
  {
   "cell_type": "code",
   "execution_count": 9,
   "outputs": [],
   "source": [
    "# join dummies with original and drop label cols (one hot encoding)\n",
    "gtzan_metadata_df.drop('label', axis=1, inplace=True)\n",
    "gtzan_metadata_df = gtzan_metadata_df.join(dummies)"
   ],
   "metadata": {
    "collapsed": false,
    "ExecuteTime": {
     "end_time": "2023-11-09T21:06:35.161715200Z",
     "start_time": "2023-11-09T21:06:34.965228700Z"
    }
   },
   "id": "35a45c4f753348e"
  },
  {
   "cell_type": "code",
   "execution_count": 10,
   "outputs": [
    {
     "data": {
      "text/plain": "False"
     },
     "execution_count": 10,
     "metadata": {},
     "output_type": "execute_result"
    }
   ],
   "source": [
    "# check if all columns of gtzan are in mtat\n",
    "gtzan_metadata_df.columns.tolist() in mtat_metadata_df.columns.tolist()"
   ],
   "metadata": {
    "collapsed": false,
    "ExecuteTime": {
     "end_time": "2023-11-09T21:06:35.163951300Z",
     "start_time": "2023-11-09T21:06:34.977089900Z"
    }
   },
   "id": "568feee39b9fa17d"
  },
  {
   "cell_type": "code",
   "execution_count": 11,
   "outputs": [],
   "source": [
    "# Making column lists\n",
    "mtat_col = set(mtat_metadata_df.columns.tolist())\n",
    "gtzan_col = set(gtzan_metadata_df.columns.tolist())"
   ],
   "metadata": {
    "collapsed": false,
    "ExecuteTime": {
     "end_time": "2023-11-09T21:06:35.164986700Z",
     "start_time": "2023-11-09T21:06:34.988106700Z"
    }
   },
   "id": "5d67fa349d0c6f07"
  },
  {
   "cell_type": "code",
   "execution_count": 12,
   "outputs": [
    {
     "data": {
      "text/plain": "{'filename', 'hiphop'}"
     },
     "execution_count": 12,
     "metadata": {},
     "output_type": "execute_result"
    }
   ],
   "source": [
    "# Finding cols that are not in mtat\n",
    "gtzan_col - mtat_col"
   ],
   "metadata": {
    "collapsed": false,
    "ExecuteTime": {
     "end_time": "2023-11-09T21:06:35.165992700Z",
     "start_time": "2023-11-09T21:06:34.994247600Z"
    }
   },
   "id": "19ae61de26484180"
  },
  {
   "cell_type": "code",
   "execution_count": 13,
   "outputs": [
    {
     "data": {
      "text/plain": "Index(['no voice', 'singer', 'duet', 'plucking', 'hard rock', 'world',\n       'bongos', 'harpsichord', 'female singing', 'clasical',\n       ...\n       'metal', 'hip hop', 'quick', 'water', 'baroque', 'women', 'fiddle',\n       'english', 'mp3_path', 'data_origin'],\n      dtype='object', length=190)"
     },
     "execution_count": 13,
     "metadata": {},
     "output_type": "execute_result"
    }
   ],
   "source": [
    "mtat_metadata_df.columns"
   ],
   "metadata": {
    "collapsed": false,
    "ExecuteTime": {
     "end_time": "2023-11-09T21:06:35.165992700Z",
     "start_time": "2023-11-09T21:06:35.005706300Z"
    }
   },
   "id": "95c504b5bfc7da1c"
  },
  {
   "cell_type": "code",
   "execution_count": 14,
   "outputs": [],
   "source": [
    "# Rename cols so that they match other df\n",
    "mtat_metadata_df.rename(columns={'hip hop': 'hiphop', 'mp3_path':'filepath'}, inplace=True)\n",
    "gtzan_metadata_df.rename(columns={'filename':'filepath'}, inplace=True)"
   ],
   "metadata": {
    "collapsed": false,
    "ExecuteTime": {
     "end_time": "2023-11-09T21:06:35.165992700Z",
     "start_time": "2023-11-09T21:06:35.023609Z"
    }
   },
   "id": "2ee69a66fd58a0f0"
  },
  {
   "cell_type": "code",
   "execution_count": 15,
   "outputs": [
    {
     "data": {
      "text/plain": "set()"
     },
     "execution_count": 15,
     "metadata": {},
     "output_type": "execute_result"
    }
   ],
   "source": [
    "# check if problem solved\n",
    "mtat_col = set(mtat_metadata_df.columns.tolist())\n",
    "gtzan_col = set(gtzan_metadata_df.columns.tolist())\n",
    "gtzan_col - mtat_col"
   ],
   "metadata": {
    "collapsed": false,
    "ExecuteTime": {
     "end_time": "2023-11-09T21:06:35.209688600Z",
     "start_time": "2023-11-09T21:06:35.037739Z"
    }
   },
   "id": "437415262739e167"
  },
  {
   "cell_type": "code",
   "execution_count": 16,
   "outputs": [],
   "source": [
    "# Concatenate dataframes together\n",
    "df_join = pd.concat([mtat_metadata_df, gtzan_metadata_df], axis=0, join='outer', ignore_index=True)"
   ],
   "metadata": {
    "collapsed": false,
    "ExecuteTime": {
     "end_time": "2023-11-09T21:06:35.263975200Z",
     "start_time": "2023-11-09T21:06:35.047097Z"
    }
   },
   "id": "c3987b3835ec67bd"
  },
  {
   "cell_type": "code",
   "execution_count": 17,
   "outputs": [
    {
     "name": "stdout",
     "output_type": "stream",
     "text": [
      "classical                                                0\n",
      "jazz                                                     0\n",
      "country                                                  0\n",
      "reggae                                                   0\n",
      "disco                                                    0\n",
      "pop                                                      0\n",
      "blues                                                    1\n",
      "rock                                                     0\n",
      "metal                                                    0\n",
      "hiphop                                                   0\n",
      "filepath       gtzan/genres_original/blues/blues.00027.wav\n",
      "data_origin                                              0\n",
      "Name: 25890, dtype: object\n"
     ]
    }
   ],
   "source": [
    "# Checking if gtzan data is merged nicely into mtat\n",
    "print(df_join.iloc[25890, :].dropna())"
   ],
   "metadata": {
    "collapsed": false,
    "ExecuteTime": {
     "end_time": "2023-11-09T21:06:35.305868100Z",
     "start_time": "2023-11-09T21:06:35.104468400Z"
    }
   },
   "id": "ffc782e27696b840"
  },
  {
   "cell_type": "code",
   "execution_count": 18,
   "outputs": [
    {
     "data": {
      "text/plain": "       no voice  singer  duet  plucking  hard rock  world  bongos  \\\n26858       NaN     NaN   NaN       NaN        NaN    NaN     NaN   \n26859       NaN     NaN   NaN       NaN        NaN    NaN     NaN   \n26860       NaN     NaN   NaN       NaN        NaN    NaN     NaN   \n26861       NaN     NaN   NaN       NaN        NaN    NaN     NaN   \n26862       NaN     NaN   NaN       NaN        NaN    NaN     NaN   \n\n       harpsichord  female singing  clasical  ...  metal  hiphop  quick  \\\n26858          NaN             NaN       NaN  ...      0       0    NaN   \n26859          NaN             NaN       NaN  ...      0       0    NaN   \n26860          NaN             NaN       NaN  ...      0       0    NaN   \n26861          NaN             NaN       NaN  ...      0       0    NaN   \n26862          NaN             NaN       NaN  ...      0       0    NaN   \n\n       water  baroque  women  fiddle  english  \\\n26858    NaN      NaN    NaN     NaN      NaN   \n26859    NaN      NaN    NaN     NaN      NaN   \n26860    NaN      NaN    NaN     NaN      NaN   \n26861    NaN      NaN    NaN     NaN      NaN   \n26862    NaN      NaN    NaN     NaN      NaN   \n\n                                        filepath  data_origin  \n26858  gtzan/genres_original/rock/rock.00095.wav            0  \n26859  gtzan/genres_original/rock/rock.00096.wav            0  \n26860  gtzan/genres_original/rock/rock.00097.wav            0  \n26861  gtzan/genres_original/rock/rock.00098.wav            0  \n26862  gtzan/genres_original/rock/rock.00099.wav            0  \n\n[5 rows x 190 columns]",
      "text/html": "<div>\n<style scoped>\n    .dataframe tbody tr th:only-of-type {\n        vertical-align: middle;\n    }\n\n    .dataframe tbody tr th {\n        vertical-align: top;\n    }\n\n    .dataframe thead th {\n        text-align: right;\n    }\n</style>\n<table border=\"1\" class=\"dataframe\">\n  <thead>\n    <tr style=\"text-align: right;\">\n      <th></th>\n      <th>no voice</th>\n      <th>singer</th>\n      <th>duet</th>\n      <th>plucking</th>\n      <th>hard rock</th>\n      <th>world</th>\n      <th>bongos</th>\n      <th>harpsichord</th>\n      <th>female singing</th>\n      <th>clasical</th>\n      <th>...</th>\n      <th>metal</th>\n      <th>hiphop</th>\n      <th>quick</th>\n      <th>water</th>\n      <th>baroque</th>\n      <th>women</th>\n      <th>fiddle</th>\n      <th>english</th>\n      <th>filepath</th>\n      <th>data_origin</th>\n    </tr>\n  </thead>\n  <tbody>\n    <tr>\n      <th>26858</th>\n      <td>NaN</td>\n      <td>NaN</td>\n      <td>NaN</td>\n      <td>NaN</td>\n      <td>NaN</td>\n      <td>NaN</td>\n      <td>NaN</td>\n      <td>NaN</td>\n      <td>NaN</td>\n      <td>NaN</td>\n      <td>...</td>\n      <td>0</td>\n      <td>0</td>\n      <td>NaN</td>\n      <td>NaN</td>\n      <td>NaN</td>\n      <td>NaN</td>\n      <td>NaN</td>\n      <td>NaN</td>\n      <td>gtzan/genres_original/rock/rock.00095.wav</td>\n      <td>0</td>\n    </tr>\n    <tr>\n      <th>26859</th>\n      <td>NaN</td>\n      <td>NaN</td>\n      <td>NaN</td>\n      <td>NaN</td>\n      <td>NaN</td>\n      <td>NaN</td>\n      <td>NaN</td>\n      <td>NaN</td>\n      <td>NaN</td>\n      <td>NaN</td>\n      <td>...</td>\n      <td>0</td>\n      <td>0</td>\n      <td>NaN</td>\n      <td>NaN</td>\n      <td>NaN</td>\n      <td>NaN</td>\n      <td>NaN</td>\n      <td>NaN</td>\n      <td>gtzan/genres_original/rock/rock.00096.wav</td>\n      <td>0</td>\n    </tr>\n    <tr>\n      <th>26860</th>\n      <td>NaN</td>\n      <td>NaN</td>\n      <td>NaN</td>\n      <td>NaN</td>\n      <td>NaN</td>\n      <td>NaN</td>\n      <td>NaN</td>\n      <td>NaN</td>\n      <td>NaN</td>\n      <td>NaN</td>\n      <td>...</td>\n      <td>0</td>\n      <td>0</td>\n      <td>NaN</td>\n      <td>NaN</td>\n      <td>NaN</td>\n      <td>NaN</td>\n      <td>NaN</td>\n      <td>NaN</td>\n      <td>gtzan/genres_original/rock/rock.00097.wav</td>\n      <td>0</td>\n    </tr>\n    <tr>\n      <th>26861</th>\n      <td>NaN</td>\n      <td>NaN</td>\n      <td>NaN</td>\n      <td>NaN</td>\n      <td>NaN</td>\n      <td>NaN</td>\n      <td>NaN</td>\n      <td>NaN</td>\n      <td>NaN</td>\n      <td>NaN</td>\n      <td>...</td>\n      <td>0</td>\n      <td>0</td>\n      <td>NaN</td>\n      <td>NaN</td>\n      <td>NaN</td>\n      <td>NaN</td>\n      <td>NaN</td>\n      <td>NaN</td>\n      <td>gtzan/genres_original/rock/rock.00098.wav</td>\n      <td>0</td>\n    </tr>\n    <tr>\n      <th>26862</th>\n      <td>NaN</td>\n      <td>NaN</td>\n      <td>NaN</td>\n      <td>NaN</td>\n      <td>NaN</td>\n      <td>NaN</td>\n      <td>NaN</td>\n      <td>NaN</td>\n      <td>NaN</td>\n      <td>NaN</td>\n      <td>...</td>\n      <td>0</td>\n      <td>0</td>\n      <td>NaN</td>\n      <td>NaN</td>\n      <td>NaN</td>\n      <td>NaN</td>\n      <td>NaN</td>\n      <td>NaN</td>\n      <td>gtzan/genres_original/rock/rock.00099.wav</td>\n      <td>0</td>\n    </tr>\n  </tbody>\n</table>\n<p>5 rows × 190 columns</p>\n</div>"
     },
     "execution_count": 18,
     "metadata": {},
     "output_type": "execute_result"
    }
   ],
   "source": [
    "df_join.tail()"
   ],
   "metadata": {
    "collapsed": false,
    "ExecuteTime": {
     "end_time": "2023-11-09T21:06:35.306892800Z",
     "start_time": "2023-11-09T21:06:35.116559400Z"
    }
   },
   "id": "cfeca1605bc475e2"
  },
  {
   "cell_type": "code",
   "execution_count": 19,
   "outputs": [],
   "source": [
    "# fill NaNs with 0\n",
    "df_join.fillna(0, inplace=True)"
   ],
   "metadata": {
    "collapsed": false,
    "ExecuteTime": {
     "end_time": "2023-11-09T21:06:35.631230400Z",
     "start_time": "2023-11-09T21:06:35.147636200Z"
    }
   },
   "id": "8617a46076557165"
  },
  {
   "cell_type": "code",
   "execution_count": 20,
   "outputs": [
    {
     "data": {
      "text/plain": "0"
     },
     "execution_count": 20,
     "metadata": {},
     "output_type": "execute_result"
    }
   ],
   "source": [
    "# checking if all NaNs have been handled\n",
    "df_join.isnull().sum().sum()"
   ],
   "metadata": {
    "collapsed": false,
    "ExecuteTime": {
     "end_time": "2023-11-09T21:06:35.715222700Z",
     "start_time": "2023-11-09T21:06:35.239230300Z"
    }
   },
   "id": "1e28eb937ccadb9c"
  },
  {
   "cell_type": "code",
   "execution_count": 21,
   "outputs": [],
   "source": [
    "for col in df_join.select_dtypes(include=['float']).columns:\n",
    "    df_join[col] = df_join[col].astype('int64') "
   ],
   "metadata": {
    "collapsed": false,
    "ExecuteTime": {
     "end_time": "2023-11-09T21:06:35.841413500Z",
     "start_time": "2023-11-09T21:06:35.271636100Z"
    }
   },
   "id": "1eeb025e1be5adc3"
  },
  {
   "cell_type": "code",
   "execution_count": 22,
   "outputs": [
    {
     "data": {
      "text/plain": "no voice        int64\nsinger          int64\nduet            int64\nplucking        int64\nhard rock       int64\n                ...  \nwomen           int64\nfiddle          int64\nenglish         int64\nfilepath       object\ndata_origin     int64\nLength: 190, dtype: object"
     },
     "execution_count": 22,
     "metadata": {},
     "output_type": "execute_result"
    }
   ],
   "source": [
    "df_join.dtypes"
   ],
   "metadata": {
    "collapsed": false,
    "ExecuteTime": {
     "end_time": "2023-11-09T21:06:35.877052500Z",
     "start_time": "2023-11-09T21:06:35.478495900Z"
    }
   },
   "id": "7a587152f868fa4a"
  },
  {
   "cell_type": "markdown",
   "source": [
    "Handling overlapping labels and typos\n",
    "- \"female singing\" and \"female singer\", \"female voice\" , \"woman singing,\" , \"female\" \"female vocal\" \"woman\" \"woman \n",
    "singing\"  \"female vocals\" \"women\"\n",
    "- \"male vocal\" and \"male vocals\", \"men\", \"male voice\" \"male singer\" \"male singing\" \"man singing\" \"man\" \"male\"\n",
    "- \"female opera\" and \"female operatic\" \n",
    "- \"no voice\" and \"no voices\" \n",
    "- \"harpsichord\" and \"harpsicord\" \n",
    "- \"classical\" and \"clasical\" \n",
    "- \"orchestra\" \"orchestral\""
   ],
   "metadata": {
    "collapsed": false
   },
   "id": "b42bfe1f7cf9a27c"
  },
  {
   "cell_type": "code",
   "execution_count": 23,
   "outputs": [],
   "source": [
    "df_join['female'] = df_join['female']|df_join['female singing']|df_join['female singer']|df_join['female voice']|df_join['female vocal']|df_join['female vocals']|df_join['women']|df_join['woman']|df_join['woman singing'] \n",
    "df_join.drop(['female singing','female singer','female voice','female vocal','female vocals','women','woman','woman singing'], axis=1, inplace =True)"
   ],
   "metadata": {
    "collapsed": false,
    "ExecuteTime": {
     "end_time": "2023-11-09T21:06:35.903766300Z",
     "start_time": "2023-11-09T21:06:35.498850700Z"
    }
   },
   "id": "4a25d252de4f0ccb"
  },
  {
   "cell_type": "code",
   "execution_count": 24,
   "outputs": [],
   "source": [
    "df_join['male'] = df_join['male']|df_join['male singer']|df_join['male voice']|df_join['male vocal']|df_join['male vocals']|df_join['man']|df_join['men']|df_join['man singing']\n",
    "df_join.drop(['male singer','male voice','male vocal','male vocals','men','man','man singing'], axis=1, inplace =True)"
   ],
   "metadata": {
    "collapsed": false,
    "ExecuteTime": {
     "end_time": "2023-11-09T21:06:35.964968Z",
     "start_time": "2023-11-09T21:06:35.587944600Z"
    }
   },
   "id": "7ee4d190ed2d2f95"
  },
  {
   "cell_type": "code",
   "execution_count": 25,
   "outputs": [],
   "source": [
    "df_join['no voice'] = df_join['no voice']|df_join['no voices']\n",
    "df_join.drop(['no voices'], axis=1, inplace =True)"
   ],
   "metadata": {
    "collapsed": false,
    "ExecuteTime": {
     "end_time": "2023-11-09T21:06:36.056830100Z",
     "start_time": "2023-11-09T21:06:35.681232400Z"
    }
   },
   "id": "c44291577dec0c0d"
  },
  {
   "cell_type": "code",
   "execution_count": 26,
   "outputs": [],
   "source": [
    "df_join['harpsichord'] = df_join['harpsichord']|df_join['harpsicord']\n",
    "df_join.drop(['harpsicord'], axis=1, inplace =True)"
   ],
   "metadata": {
    "collapsed": false,
    "ExecuteTime": {
     "end_time": "2023-11-09T21:06:36.058181300Z",
     "start_time": "2023-11-09T21:06:35.756959200Z"
    }
   },
   "id": "aa41ae84c36a71d"
  },
  {
   "cell_type": "code",
   "execution_count": 27,
   "outputs": [],
   "source": [
    "df_join['classical'] = df_join['classical']|df_join['clasical']\n",
    "df_join.drop(['clasical'], axis=1, inplace =True)"
   ],
   "metadata": {
    "collapsed": false,
    "ExecuteTime": {
     "end_time": "2023-11-09T21:06:36.148835900Z",
     "start_time": "2023-11-09T21:06:35.837718900Z"
    }
   },
   "id": "bc54dcebfaa1f580"
  },
  {
   "cell_type": "code",
   "execution_count": 28,
   "outputs": [],
   "source": [
    "df_join['orchestra'] = df_join['orchestra']|df_join['orchestral']\n",
    "df_join.drop(['orchestral'], axis=1, inplace =True)"
   ],
   "metadata": {
    "collapsed": false,
    "ExecuteTime": {
     "end_time": "2023-11-09T21:06:36.242300Z",
     "start_time": "2023-11-09T21:06:35.895830400Z"
    }
   },
   "id": "589e5d231f12005"
  },
  {
   "cell_type": "code",
   "execution_count": 30,
   "outputs": [
    {
     "data": {
      "text/plain": "(26863, 171)"
     },
     "execution_count": 30,
     "metadata": {},
     "output_type": "execute_result"
    }
   ],
   "source": [
    "df_join.shape"
   ],
   "metadata": {
    "collapsed": false,
    "ExecuteTime": {
     "end_time": "2023-11-09T21:06:36.291154200Z",
     "start_time": "2023-11-09T21:06:35.977050700Z"
    }
   },
   "id": "af37880f84bbf1d9"
  },
  {
   "cell_type": "code",
   "execution_count": 31,
   "outputs": [],
   "source": [
    "df_join.to_csv('../data/label.csv')"
   ],
   "metadata": {
    "collapsed": false,
    "ExecuteTime": {
     "end_time": "2023-11-09T21:07:16.144925300Z",
     "start_time": "2023-11-09T21:07:14.500249500Z"
    }
   },
   "id": "e0c559618730ad76"
  },
  {
   "cell_type": "code",
   "execution_count": null,
   "outputs": [],
   "source": [],
   "metadata": {
    "collapsed": false
   },
   "id": "518c6dd147ecb1ce"
  }
 ],
 "metadata": {
  "kernelspec": {
   "display_name": "Python 3",
   "language": "python",
   "name": "python3"
  },
  "language_info": {
   "codemirror_mode": {
    "name": "ipython",
    "version": 2
   },
   "file_extension": ".py",
   "mimetype": "text/x-python",
   "name": "python",
   "nbconvert_exporter": "python",
   "pygments_lexer": "ipython2",
   "version": "2.7.6"
  }
 },
 "nbformat": 4,
 "nbformat_minor": 5
}
