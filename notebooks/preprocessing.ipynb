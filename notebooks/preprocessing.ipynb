{
 "cells": [
  {
   "cell_type": "code",
   "execution_count": 1,
   "id": "e3a30595862b635f",
   "metadata": {
    "ExecuteTime": {
     "end_time": "2023-11-11T16:20:36.636774200Z",
     "start_time": "2023-11-11T16:20:36.296773500Z"
    }
   },
   "outputs": [],
   "source": [
    "from pathlib import Path\n",
    "import pandas as pd\n",
    "import re"
   ]
  },
  {
   "cell_type": "markdown",
   "id": "bf2732b81a776711",
   "metadata": {},
   "source": [
    "# Preprocessing"
   ]
  },
  {
   "cell_type": "markdown",
   "id": "4a327bc4837b90cf",
   "metadata": {},
   "source": [
    "## Label data"
   ]
  },
  {
   "cell_type": "code",
   "execution_count": 2,
   "id": "initial_id",
   "metadata": {
    "ExecuteTime": {
     "end_time": "2023-11-11T16:49:21.174025400Z",
     "start_time": "2023-11-11T16:49:20.606578200Z"
    }
   },
   "outputs": [],
   "source": [
    "data_path = Path.cwd()/'..'/'data'\n",
    "\n",
    "# Read metadata file gtzan\n",
    "feature_path = data_path/'gtzan'/'features_30_sec.csv'\n",
    "gtzan_metadata_df = pd.read_csv(feature_path)\n",
    "\n",
    "# Read metadata file mtat\n",
    "annotations_path = data_path/'mtat'/'annotations_final.csv'\n",
    "mtat_metadata_df = pd.read_csv(annotations_path, quotechar='\"', delim_whitespace=True)\n",
    "\n",
    "# Specify cols to keep\n",
    "gtzan_metadata_df = gtzan_metadata_df[['filename', 'label']]\n",
    "mtat_metadata_df = mtat_metadata_df.drop('clip_id', axis=1)\n"
   ]
  },
  {
   "cell_type": "code",
   "execution_count": 3,
   "id": "17a8bcb68a73501c",
   "metadata": {
    "ExecuteTime": {
     "end_time": "2023-11-11T16:49:21.177074200Z",
     "start_time": "2023-11-11T16:49:21.150592600Z"
    }
   },
   "outputs": [
    {
     "data": {
      "text/html": [
       "<div>\n",
       "<style scoped>\n",
       "    .dataframe tbody tr th:only-of-type {\n",
       "        vertical-align: middle;\n",
       "    }\n",
       "\n",
       "    .dataframe tbody tr th {\n",
       "        vertical-align: top;\n",
       "    }\n",
       "\n",
       "    .dataframe thead th {\n",
       "        text-align: right;\n",
       "    }\n",
       "</style>\n",
       "<table border=\"1\" class=\"dataframe\">\n",
       "  <thead>\n",
       "    <tr style=\"text-align: right;\">\n",
       "      <th></th>\n",
       "      <th>filename</th>\n",
       "      <th>label</th>\n",
       "    </tr>\n",
       "  </thead>\n",
       "  <tbody>\n",
       "    <tr>\n",
       "      <th>0</th>\n",
       "      <td>blues.00000.wav</td>\n",
       "      <td>blues</td>\n",
       "    </tr>\n",
       "    <tr>\n",
       "      <th>1</th>\n",
       "      <td>blues.00001.wav</td>\n",
       "      <td>blues</td>\n",
       "    </tr>\n",
       "    <tr>\n",
       "      <th>2</th>\n",
       "      <td>blues.00002.wav</td>\n",
       "      <td>blues</td>\n",
       "    </tr>\n",
       "    <tr>\n",
       "      <th>3</th>\n",
       "      <td>blues.00003.wav</td>\n",
       "      <td>blues</td>\n",
       "    </tr>\n",
       "    <tr>\n",
       "      <th>4</th>\n",
       "      <td>blues.00004.wav</td>\n",
       "      <td>blues</td>\n",
       "    </tr>\n",
       "  </tbody>\n",
       "</table>\n",
       "</div>"
      ],
      "text/plain": [
       "          filename  label\n",
       "0  blues.00000.wav  blues\n",
       "1  blues.00001.wav  blues\n",
       "2  blues.00002.wav  blues\n",
       "3  blues.00003.wav  blues\n",
       "4  blues.00004.wav  blues"
      ]
     },
     "execution_count": 3,
     "metadata": {},
     "output_type": "execute_result"
    }
   ],
   "source": [
    "gtzan_metadata_df.head()"
   ]
  },
  {
   "cell_type": "code",
   "execution_count": 4,
   "id": "ee8952e35bdc85d6",
   "metadata": {
    "ExecuteTime": {
     "end_time": "2023-11-11T16:49:21.207554600Z",
     "start_time": "2023-11-11T16:49:21.177074200Z"
    }
   },
   "outputs": [],
   "source": [
    "# Define a function to change filename to match our folder structure\n",
    "def apply_regex(filename):\n",
    "    match = re.match(r'([^\\.]+)\\.\\d+\\.wav', filename)\n",
    "    if match:\n",
    "        genre = match.group(1)  \n",
    "        return f\"gtzan/genres_original/{genre}/{filename}\"\n",
    "    return filename\n",
    "\n",
    "gtzan_metadata_df['filename'] = gtzan_metadata_df['filename'].apply(apply_regex)"
   ]
  },
  {
   "cell_type": "code",
   "execution_count": 5,
   "id": "e2c6b70861bbb18a",
   "metadata": {
    "ExecuteTime": {
     "end_time": "2023-11-11T16:49:21.445836100Z",
     "start_time": "2023-11-11T16:49:21.419539800Z"
    }
   },
   "outputs": [
    {
     "data": {
      "text/html": [
       "<div>\n",
       "<style scoped>\n",
       "    .dataframe tbody tr th:only-of-type {\n",
       "        vertical-align: middle;\n",
       "    }\n",
       "\n",
       "    .dataframe tbody tr th {\n",
       "        vertical-align: top;\n",
       "    }\n",
       "\n",
       "    .dataframe thead th {\n",
       "        text-align: right;\n",
       "    }\n",
       "</style>\n",
       "<table border=\"1\" class=\"dataframe\">\n",
       "  <thead>\n",
       "    <tr style=\"text-align: right;\">\n",
       "      <th></th>\n",
       "      <th>no voice</th>\n",
       "      <th>singer</th>\n",
       "      <th>duet</th>\n",
       "      <th>plucking</th>\n",
       "      <th>hard rock</th>\n",
       "      <th>world</th>\n",
       "      <th>bongos</th>\n",
       "      <th>harpsichord</th>\n",
       "      <th>female singing</th>\n",
       "      <th>clasical</th>\n",
       "      <th>...</th>\n",
       "      <th>rap</th>\n",
       "      <th>metal</th>\n",
       "      <th>hip hop</th>\n",
       "      <th>quick</th>\n",
       "      <th>water</th>\n",
       "      <th>baroque</th>\n",
       "      <th>women</th>\n",
       "      <th>fiddle</th>\n",
       "      <th>english</th>\n",
       "      <th>mp3_path</th>\n",
       "    </tr>\n",
       "  </thead>\n",
       "  <tbody>\n",
       "    <tr>\n",
       "      <th>0</th>\n",
       "      <td>0</td>\n",
       "      <td>0</td>\n",
       "      <td>0</td>\n",
       "      <td>0</td>\n",
       "      <td>0</td>\n",
       "      <td>0</td>\n",
       "      <td>0</td>\n",
       "      <td>0</td>\n",
       "      <td>0</td>\n",
       "      <td>0</td>\n",
       "      <td>...</td>\n",
       "      <td>0</td>\n",
       "      <td>0</td>\n",
       "      <td>0</td>\n",
       "      <td>0</td>\n",
       "      <td>0</td>\n",
       "      <td>0</td>\n",
       "      <td>0</td>\n",
       "      <td>0</td>\n",
       "      <td>0</td>\n",
       "      <td>f/american_bach_soloists-j_s__bach_solo_cantat...</td>\n",
       "    </tr>\n",
       "    <tr>\n",
       "      <th>1</th>\n",
       "      <td>0</td>\n",
       "      <td>0</td>\n",
       "      <td>0</td>\n",
       "      <td>0</td>\n",
       "      <td>0</td>\n",
       "      <td>0</td>\n",
       "      <td>0</td>\n",
       "      <td>0</td>\n",
       "      <td>0</td>\n",
       "      <td>0</td>\n",
       "      <td>...</td>\n",
       "      <td>0</td>\n",
       "      <td>0</td>\n",
       "      <td>0</td>\n",
       "      <td>0</td>\n",
       "      <td>0</td>\n",
       "      <td>1</td>\n",
       "      <td>0</td>\n",
       "      <td>0</td>\n",
       "      <td>0</td>\n",
       "      <td>f/american_bach_soloists-j_s__bach_solo_cantat...</td>\n",
       "    </tr>\n",
       "    <tr>\n",
       "      <th>2</th>\n",
       "      <td>0</td>\n",
       "      <td>0</td>\n",
       "      <td>0</td>\n",
       "      <td>0</td>\n",
       "      <td>0</td>\n",
       "      <td>0</td>\n",
       "      <td>0</td>\n",
       "      <td>0</td>\n",
       "      <td>0</td>\n",
       "      <td>0</td>\n",
       "      <td>...</td>\n",
       "      <td>0</td>\n",
       "      <td>0</td>\n",
       "      <td>0</td>\n",
       "      <td>0</td>\n",
       "      <td>0</td>\n",
       "      <td>0</td>\n",
       "      <td>0</td>\n",
       "      <td>0</td>\n",
       "      <td>0</td>\n",
       "      <td>f/american_bach_soloists-j_s__bach_solo_cantat...</td>\n",
       "    </tr>\n",
       "    <tr>\n",
       "      <th>3</th>\n",
       "      <td>0</td>\n",
       "      <td>0</td>\n",
       "      <td>0</td>\n",
       "      <td>0</td>\n",
       "      <td>0</td>\n",
       "      <td>0</td>\n",
       "      <td>0</td>\n",
       "      <td>0</td>\n",
       "      <td>0</td>\n",
       "      <td>0</td>\n",
       "      <td>...</td>\n",
       "      <td>0</td>\n",
       "      <td>0</td>\n",
       "      <td>0</td>\n",
       "      <td>0</td>\n",
       "      <td>0</td>\n",
       "      <td>0</td>\n",
       "      <td>0</td>\n",
       "      <td>0</td>\n",
       "      <td>0</td>\n",
       "      <td>f/american_bach_soloists-j_s__bach_solo_cantat...</td>\n",
       "    </tr>\n",
       "    <tr>\n",
       "      <th>4</th>\n",
       "      <td>0</td>\n",
       "      <td>0</td>\n",
       "      <td>0</td>\n",
       "      <td>0</td>\n",
       "      <td>0</td>\n",
       "      <td>0</td>\n",
       "      <td>0</td>\n",
       "      <td>0</td>\n",
       "      <td>0</td>\n",
       "      <td>0</td>\n",
       "      <td>...</td>\n",
       "      <td>0</td>\n",
       "      <td>0</td>\n",
       "      <td>0</td>\n",
       "      <td>0</td>\n",
       "      <td>0</td>\n",
       "      <td>0</td>\n",
       "      <td>0</td>\n",
       "      <td>0</td>\n",
       "      <td>0</td>\n",
       "      <td>f/american_bach_soloists-j_s__bach_solo_cantat...</td>\n",
       "    </tr>\n",
       "  </tbody>\n",
       "</table>\n",
       "<p>5 rows × 189 columns</p>\n",
       "</div>"
      ],
      "text/plain": [
       "   no voice  singer  duet  plucking  hard rock  world  bongos  harpsichord  \\\n",
       "0         0       0     0         0          0      0       0            0   \n",
       "1         0       0     0         0          0      0       0            0   \n",
       "2         0       0     0         0          0      0       0            0   \n",
       "3         0       0     0         0          0      0       0            0   \n",
       "4         0       0     0         0          0      0       0            0   \n",
       "\n",
       "   female singing  clasical  ...  rap  metal  hip hop  quick  water  baroque  \\\n",
       "0               0         0  ...    0      0        0      0      0        0   \n",
       "1               0         0  ...    0      0        0      0      0        1   \n",
       "2               0         0  ...    0      0        0      0      0        0   \n",
       "3               0         0  ...    0      0        0      0      0        0   \n",
       "4               0         0  ...    0      0        0      0      0        0   \n",
       "\n",
       "   women  fiddle  english                                           mp3_path  \n",
       "0      0       0        0  f/american_bach_soloists-j_s__bach_solo_cantat...  \n",
       "1      0       0        0  f/american_bach_soloists-j_s__bach_solo_cantat...  \n",
       "2      0       0        0  f/american_bach_soloists-j_s__bach_solo_cantat...  \n",
       "3      0       0        0  f/american_bach_soloists-j_s__bach_solo_cantat...  \n",
       "4      0       0        0  f/american_bach_soloists-j_s__bach_solo_cantat...  \n",
       "\n",
       "[5 rows x 189 columns]"
      ]
     },
     "execution_count": 5,
     "metadata": {},
     "output_type": "execute_result"
    }
   ],
   "source": [
    "mtat_metadata_df.head()"
   ]
  },
  {
   "cell_type": "code",
   "execution_count": 6,
   "id": "b86f12991ae28320",
   "metadata": {
    "ExecuteTime": {
     "end_time": "2023-11-11T16:49:22.094951200Z",
     "start_time": "2023-11-11T16:49:22.054397700Z"
    }
   },
   "outputs": [],
   "source": [
    "# adjust path name to be consistent with other df before concatenating\n",
    "mtat_metadata_df['mp3_path'] = [\"mtat/\"]*len(mtat_metadata_df)+mtat_metadata_df['mp3_path'] "
   ]
  },
  {
   "cell_type": "code",
   "execution_count": 7,
   "id": "62ec814930138cee",
   "metadata": {
    "ExecuteTime": {
     "end_time": "2023-11-11T16:49:22.676027300Z",
     "start_time": "2023-11-11T16:49:22.650931500Z"
    }
   },
   "outputs": [
    {
     "data": {
      "text/plain": [
       "label\n",
       "blues        100\n",
       "classical    100\n",
       "country      100\n",
       "disco        100\n",
       "hiphop       100\n",
       "jazz         100\n",
       "metal        100\n",
       "pop          100\n",
       "reggae       100\n",
       "rock         100\n",
       "Name: count, dtype: int64"
      ]
     },
     "execution_count": 7,
     "metadata": {},
     "output_type": "execute_result"
    }
   ],
   "source": [
    "gtzan_metadata_df.label.value_counts()"
   ]
  },
  {
   "cell_type": "code",
   "execution_count": 8,
   "id": "ee5c5e3afbe03839",
   "metadata": {
    "ExecuteTime": {
     "end_time": "2023-11-11T16:49:23.047377900Z",
     "start_time": "2023-11-11T16:49:23.005685900Z"
    }
   },
   "outputs": [
    {
     "data": {
      "text/html": [
       "<div>\n",
       "<style scoped>\n",
       "    .dataframe tbody tr th:only-of-type {\n",
       "        vertical-align: middle;\n",
       "    }\n",
       "\n",
       "    .dataframe tbody tr th {\n",
       "        vertical-align: top;\n",
       "    }\n",
       "\n",
       "    .dataframe thead th {\n",
       "        text-align: right;\n",
       "    }\n",
       "</style>\n",
       "<table border=\"1\" class=\"dataframe\">\n",
       "  <thead>\n",
       "    <tr style=\"text-align: right;\">\n",
       "      <th></th>\n",
       "      <th>blues</th>\n",
       "      <th>classical</th>\n",
       "      <th>country</th>\n",
       "      <th>disco</th>\n",
       "      <th>hiphop</th>\n",
       "      <th>jazz</th>\n",
       "      <th>metal</th>\n",
       "      <th>pop</th>\n",
       "      <th>reggae</th>\n",
       "      <th>rock</th>\n",
       "    </tr>\n",
       "  </thead>\n",
       "  <tbody>\n",
       "    <tr>\n",
       "      <th>0</th>\n",
       "      <td>True</td>\n",
       "      <td>False</td>\n",
       "      <td>False</td>\n",
       "      <td>False</td>\n",
       "      <td>False</td>\n",
       "      <td>False</td>\n",
       "      <td>False</td>\n",
       "      <td>False</td>\n",
       "      <td>False</td>\n",
       "      <td>False</td>\n",
       "    </tr>\n",
       "    <tr>\n",
       "      <th>1</th>\n",
       "      <td>True</td>\n",
       "      <td>False</td>\n",
       "      <td>False</td>\n",
       "      <td>False</td>\n",
       "      <td>False</td>\n",
       "      <td>False</td>\n",
       "      <td>False</td>\n",
       "      <td>False</td>\n",
       "      <td>False</td>\n",
       "      <td>False</td>\n",
       "    </tr>\n",
       "    <tr>\n",
       "      <th>2</th>\n",
       "      <td>True</td>\n",
       "      <td>False</td>\n",
       "      <td>False</td>\n",
       "      <td>False</td>\n",
       "      <td>False</td>\n",
       "      <td>False</td>\n",
       "      <td>False</td>\n",
       "      <td>False</td>\n",
       "      <td>False</td>\n",
       "      <td>False</td>\n",
       "    </tr>\n",
       "    <tr>\n",
       "      <th>3</th>\n",
       "      <td>True</td>\n",
       "      <td>False</td>\n",
       "      <td>False</td>\n",
       "      <td>False</td>\n",
       "      <td>False</td>\n",
       "      <td>False</td>\n",
       "      <td>False</td>\n",
       "      <td>False</td>\n",
       "      <td>False</td>\n",
       "      <td>False</td>\n",
       "    </tr>\n",
       "    <tr>\n",
       "      <th>4</th>\n",
       "      <td>True</td>\n",
       "      <td>False</td>\n",
       "      <td>False</td>\n",
       "      <td>False</td>\n",
       "      <td>False</td>\n",
       "      <td>False</td>\n",
       "      <td>False</td>\n",
       "      <td>False</td>\n",
       "      <td>False</td>\n",
       "      <td>False</td>\n",
       "    </tr>\n",
       "    <tr>\n",
       "      <th>...</th>\n",
       "      <td>...</td>\n",
       "      <td>...</td>\n",
       "      <td>...</td>\n",
       "      <td>...</td>\n",
       "      <td>...</td>\n",
       "      <td>...</td>\n",
       "      <td>...</td>\n",
       "      <td>...</td>\n",
       "      <td>...</td>\n",
       "      <td>...</td>\n",
       "    </tr>\n",
       "    <tr>\n",
       "      <th>995</th>\n",
       "      <td>False</td>\n",
       "      <td>False</td>\n",
       "      <td>False</td>\n",
       "      <td>False</td>\n",
       "      <td>False</td>\n",
       "      <td>False</td>\n",
       "      <td>False</td>\n",
       "      <td>False</td>\n",
       "      <td>False</td>\n",
       "      <td>True</td>\n",
       "    </tr>\n",
       "    <tr>\n",
       "      <th>996</th>\n",
       "      <td>False</td>\n",
       "      <td>False</td>\n",
       "      <td>False</td>\n",
       "      <td>False</td>\n",
       "      <td>False</td>\n",
       "      <td>False</td>\n",
       "      <td>False</td>\n",
       "      <td>False</td>\n",
       "      <td>False</td>\n",
       "      <td>True</td>\n",
       "    </tr>\n",
       "    <tr>\n",
       "      <th>997</th>\n",
       "      <td>False</td>\n",
       "      <td>False</td>\n",
       "      <td>False</td>\n",
       "      <td>False</td>\n",
       "      <td>False</td>\n",
       "      <td>False</td>\n",
       "      <td>False</td>\n",
       "      <td>False</td>\n",
       "      <td>False</td>\n",
       "      <td>True</td>\n",
       "    </tr>\n",
       "    <tr>\n",
       "      <th>998</th>\n",
       "      <td>False</td>\n",
       "      <td>False</td>\n",
       "      <td>False</td>\n",
       "      <td>False</td>\n",
       "      <td>False</td>\n",
       "      <td>False</td>\n",
       "      <td>False</td>\n",
       "      <td>False</td>\n",
       "      <td>False</td>\n",
       "      <td>True</td>\n",
       "    </tr>\n",
       "    <tr>\n",
       "      <th>999</th>\n",
       "      <td>False</td>\n",
       "      <td>False</td>\n",
       "      <td>False</td>\n",
       "      <td>False</td>\n",
       "      <td>False</td>\n",
       "      <td>False</td>\n",
       "      <td>False</td>\n",
       "      <td>False</td>\n",
       "      <td>False</td>\n",
       "      <td>True</td>\n",
       "    </tr>\n",
       "  </tbody>\n",
       "</table>\n",
       "<p>1000 rows × 10 columns</p>\n",
       "</div>"
      ],
      "text/plain": [
       "     blues  classical  country  disco  hiphop   jazz  metal    pop  reggae  \\\n",
       "0     True      False    False  False   False  False  False  False   False   \n",
       "1     True      False    False  False   False  False  False  False   False   \n",
       "2     True      False    False  False   False  False  False  False   False   \n",
       "3     True      False    False  False   False  False  False  False   False   \n",
       "4     True      False    False  False   False  False  False  False   False   \n",
       "..     ...        ...      ...    ...     ...    ...    ...    ...     ...   \n",
       "995  False      False    False  False   False  False  False  False   False   \n",
       "996  False      False    False  False   False  False  False  False   False   \n",
       "997  False      False    False  False   False  False  False  False   False   \n",
       "998  False      False    False  False   False  False  False  False   False   \n",
       "999  False      False    False  False   False  False  False  False   False   \n",
       "\n",
       "      rock  \n",
       "0    False  \n",
       "1    False  \n",
       "2    False  \n",
       "3    False  \n",
       "4    False  \n",
       "..     ...  \n",
       "995   True  \n",
       "996   True  \n",
       "997   True  \n",
       "998   True  \n",
       "999   True  \n",
       "\n",
       "[1000 rows x 10 columns]"
      ]
     },
     "execution_count": 8,
     "metadata": {},
     "output_type": "execute_result"
    }
   ],
   "source": [
    "# get dummies for labels\n",
    "dummies = pd.get_dummies(gtzan_metadata_df['label'])\n",
    "dummies"
   ]
  },
  {
   "cell_type": "code",
   "execution_count": 9,
   "id": "35a45c4f753348e",
   "metadata": {
    "ExecuteTime": {
     "end_time": "2023-11-11T16:49:23.478264900Z",
     "start_time": "2023-11-11T16:49:23.450054Z"
    }
   },
   "outputs": [],
   "source": [
    "# join dummies with original and drop label cols (one hot encoding)\n",
    "gtzan_metadata_df.drop('label', axis=1, inplace=True)\n",
    "gtzan_metadata_df = gtzan_metadata_df.join(dummies)"
   ]
  },
  {
   "cell_type": "code",
   "execution_count": 10,
   "id": "9da9d34b",
   "metadata": {},
   "outputs": [
    {
     "data": {
      "text/plain": [
       "filename     0\n",
       "blues        0\n",
       "classical    0\n",
       "country      0\n",
       "disco        0\n",
       "hiphop       0\n",
       "jazz         0\n",
       "metal        0\n",
       "pop          0\n",
       "reggae       0\n",
       "rock         0\n",
       "dtype: int64"
      ]
     },
     "execution_count": 10,
     "metadata": {},
     "output_type": "execute_result"
    }
   ],
   "source": [
    "# check null data\n",
    "gtzan_metadata_df.isnull().sum()"
   ]
  },
  {
   "cell_type": "code",
   "execution_count": 11,
   "id": "19406ac2",
   "metadata": {},
   "outputs": [
    {
     "data": {
      "text/plain": [
       "0"
      ]
     },
     "execution_count": 11,
     "metadata": {},
     "output_type": "execute_result"
    }
   ],
   "source": [
    "# check null data\n",
    "mtat_metadata_df.isnull().sum().sum()"
   ]
  },
  {
   "cell_type": "code",
   "execution_count": 12,
   "id": "568feee39b9fa17d",
   "metadata": {
    "ExecuteTime": {
     "end_time": "2023-11-11T16:49:23.912359900Z",
     "start_time": "2023-11-11T16:49:23.882203500Z"
    }
   },
   "outputs": [
    {
     "data": {
      "text/plain": [
       "False"
      ]
     },
     "execution_count": 12,
     "metadata": {},
     "output_type": "execute_result"
    }
   ],
   "source": [
    "# check if all columns of gtzan are in mtat to insure consistency\n",
    "gtzan_metadata_df.columns.tolist() in mtat_metadata_df.columns.tolist()"
   ]
  },
  {
   "cell_type": "code",
   "execution_count": 13,
   "id": "5d67fa349d0c6f07",
   "metadata": {
    "ExecuteTime": {
     "end_time": "2023-11-11T16:49:24.293901100Z",
     "start_time": "2023-11-11T16:49:24.266751900Z"
    }
   },
   "outputs": [],
   "source": [
    "# Making column lists\n",
    "mtat_col = set(mtat_metadata_df.columns.tolist())\n",
    "gtzan_col = set(gtzan_metadata_df.columns.tolist())"
   ]
  },
  {
   "cell_type": "code",
   "execution_count": 14,
   "id": "19ae61de26484180",
   "metadata": {
    "ExecuteTime": {
     "end_time": "2023-11-11T16:49:24.724601200Z",
     "start_time": "2023-11-11T16:49:24.716779100Z"
    }
   },
   "outputs": [
    {
     "data": {
      "text/plain": [
       "{'filename', 'hiphop'}"
      ]
     },
     "execution_count": 14,
     "metadata": {},
     "output_type": "execute_result"
    }
   ],
   "source": [
    "# Finding cols that are not in mtat\n",
    "gtzan_col - mtat_col"
   ]
  },
  {
   "cell_type": "code",
   "execution_count": 15,
   "id": "95c504b5bfc7da1c",
   "metadata": {
    "ExecuteTime": {
     "end_time": "2023-11-11T16:49:25.104813400Z",
     "start_time": "2023-11-11T16:49:25.091595800Z"
    }
   },
   "outputs": [
    {
     "data": {
      "text/plain": [
       "Index(['no voice', 'singer', 'duet', 'plucking', 'hard rock', 'world',\n",
       "       'bongos', 'harpsichord', 'female singing', 'clasical',\n",
       "       ...\n",
       "       'rap', 'metal', 'hip hop', 'quick', 'water', 'baroque', 'women',\n",
       "       'fiddle', 'english', 'mp3_path'],\n",
       "      dtype='object', length=189)"
      ]
     },
     "execution_count": 15,
     "metadata": {},
     "output_type": "execute_result"
    }
   ],
   "source": [
    "mtat_metadata_df.columns"
   ]
  },
  {
   "cell_type": "code",
   "execution_count": 16,
   "id": "2ee69a66fd58a0f0",
   "metadata": {
    "ExecuteTime": {
     "end_time": "2023-11-11T16:49:25.334425400Z",
     "start_time": "2023-11-11T16:49:25.307315200Z"
    }
   },
   "outputs": [],
   "source": [
    "# Rename cols so that they match other df\n",
    "mtat_metadata_df.rename(columns={'hip hop': 'hiphop', 'mp3_path':'filepath'}, inplace=True)\n",
    "gtzan_metadata_df.rename(columns={'filename':'filepath'}, inplace=True)"
   ]
  },
  {
   "cell_type": "code",
   "execution_count": 17,
   "id": "437415262739e167",
   "metadata": {
    "ExecuteTime": {
     "end_time": "2023-11-11T16:49:25.536476200Z",
     "start_time": "2023-11-11T16:49:25.514312400Z"
    }
   },
   "outputs": [
    {
     "data": {
      "text/plain": [
       "set()"
      ]
     },
     "execution_count": 17,
     "metadata": {},
     "output_type": "execute_result"
    }
   ],
   "source": [
    "# check if problem solved\n",
    "mtat_col = set(mtat_metadata_df.columns.tolist())\n",
    "gtzan_col = set(gtzan_metadata_df.columns.tolist())\n",
    "gtzan_col - mtat_col"
   ]
  },
  {
   "cell_type": "code",
   "execution_count": 18,
   "id": "1eeb025e1be5adc3",
   "metadata": {
    "ExecuteTime": {
     "end_time": "2023-11-11T16:49:30.525189400Z",
     "start_time": "2023-11-11T16:49:30.402946900Z"
    }
   },
   "outputs": [],
   "source": [
    "for col in mtat_metadata_df.select_dtypes(include=['float']).columns:\n",
    "    mtat_metadata_df[col] = mtat_metadata_df[col].astype('int64') "
   ]
  },
  {
   "cell_type": "code",
   "execution_count": 19,
   "id": "7a587152f868fa4a",
   "metadata": {
    "ExecuteTime": {
     "end_time": "2023-11-11T16:49:30.814580900Z",
     "start_time": "2023-11-11T16:49:30.787130Z"
    }
   },
   "outputs": [
    {
     "data": {
      "text/plain": [
       "no voice      int64\n",
       "singer        int64\n",
       "duet          int64\n",
       "plucking      int64\n",
       "hard rock     int64\n",
       "              ...  \n",
       "baroque       int64\n",
       "women         int64\n",
       "fiddle        int64\n",
       "english       int64\n",
       "filepath     object\n",
       "Length: 189, dtype: object"
      ]
     },
     "execution_count": 19,
     "metadata": {},
     "output_type": "execute_result"
    }
   ],
   "source": [
    "mtat_metadata_df.dtypes"
   ]
  },
  {
   "cell_type": "code",
   "execution_count": 20,
   "id": "760fd568",
   "metadata": {},
   "outputs": [
    {
     "data": {
      "text/plain": [
       "filepath     object\n",
       "blues          bool\n",
       "classical      bool\n",
       "country        bool\n",
       "disco          bool\n",
       "hiphop         bool\n",
       "jazz           bool\n",
       "metal          bool\n",
       "pop            bool\n",
       "reggae         bool\n",
       "rock           bool\n",
       "dtype: object"
      ]
     },
     "execution_count": 20,
     "metadata": {},
     "output_type": "execute_result"
    }
   ],
   "source": [
    "gtzan_metadata_df.dtypes"
   ]
  },
  {
   "cell_type": "markdown",
   "id": "b42bfe1f7cf9a27c",
   "metadata": {},
   "source": [
    "Handling overlapping labels and typos in mtat data\n",
    "- \"female singing\" and \"female singer\", \"female voice\" , \"woman singing,\" , \"female\" \"female vocal\" \"woman\" \"woman \n",
    "singing\"  \"female vocals\" \"women\"\n",
    "- \"male vocal\" and \"male vocals\", \"men\", \"male voice\" \"male singer\" \"male singing\" \"man singing\" \"man\" \"male\"\n",
    "- \"female opera\" and \"female operatic\" \n",
    "- \"no voice\" and \"no voices\" \n",
    "- \"harpsichord\" and \"harpsicord\" \n",
    "- \"classical\" and \"clasical\" \n",
    "- \"orchestra\" \"orchestral\""
   ]
  },
  {
   "cell_type": "code",
   "execution_count": 21,
   "id": "34f0c9a1a89927ac",
   "metadata": {
    "ExecuteTime": {
     "end_time": "2023-11-11T16:49:34.440137700Z",
     "start_time": "2023-11-11T16:49:34.422085900Z"
    }
   },
   "outputs": [],
   "source": [
    "synonyms = [['beat', 'beats'],\n",
    "                ['chant', 'chanting'],\n",
    "                ['choir', 'choral'],\n",
    "                ['classical', 'clasical', 'classic'],\n",
    "                ['drum', 'drums'],\n",
    "                ['electro', 'electronic', 'electronica', 'electric'],\n",
    "                ['fast', 'fast beat', 'quick'],\n",
    "                ['female', 'female singer', 'female singing', 'female vocals', 'female vocal', 'female voice', 'woman', 'woman singing', 'women'],\n",
    "                ['flute', 'flutes'],\n",
    "                ['guitar', 'guitars'],\n",
    "                ['hard', 'hard rock'],\n",
    "                ['harpsichord', 'harpsicord'],\n",
    "                ['heavy', 'heavy metal', 'metal'],\n",
    "                ['horn', 'horns'],\n",
    "                ['india', 'indian'],\n",
    "                ['jazz', 'jazzy'],\n",
    "                ['male', 'male singer', 'male vocal', 'male vocals', 'male voice', 'man', 'man singing', 'men'],\n",
    "                ['no beat', 'no drums'],\n",
    "                ['no singer', 'no singing', 'no vocal','no vocals', 'no voice', 'no voices', 'instrumental'],\n",
    "                ['opera', 'operatic'],\n",
    "                ['orchestra', 'orchestral'],\n",
    "                ['quiet', 'silence'],\n",
    "                ['singer', 'singing'],\n",
    "                ['space', 'spacey'],\n",
    "                ['string', 'strings'],\n",
    "                ['synth', 'synthesizer'],\n",
    "                ['violin', 'violins'],\n",
    "                ['vocal', 'vocals', 'voice', 'voices'],\n",
    "                ['strange', 'weird']]"
   ]
  },
  {
   "cell_type": "code",
   "execution_count": 22,
   "id": "108b428ce982ff0e",
   "metadata": {
    "ExecuteTime": {
     "end_time": "2023-11-11T16:49:36.667362200Z",
     "start_time": "2023-11-11T16:49:35.491153700Z"
    }
   },
   "outputs": [
    {
     "name": "stdout",
     "output_type": "stream",
     "text": [
      "<class 'pandas.core.frame.DataFrame'>\n",
      "RangeIndex: 25863 entries, 0 to 25862\n",
      "Columns: 135 entries, singer to filepath\n",
      "dtypes: bool(29), int64(105), object(1)\n",
      "memory usage: 21.6+ MB\n"
     ]
    }
   ],
   "source": [
    "def consolidate_labels(df, synonyms):\n",
    "    for synonym_group in synonyms:\n",
    "        # Base label is the first element in the synonym group\n",
    "        base_label = synonym_group[0]\n",
    "        # Additional labels are the remaining elements in the synonym group\n",
    "        additional_labels = synonym_group[1:]\n",
    "        # Check if the additional labels are in the dataframe\n",
    "        present_labels = [label for label in additional_labels if label in df.columns]\n",
    "        # Update the base label column to be true if any of the synonyms are true\n",
    "        if present_labels:\n",
    "            df[base_label] = df[base_label] | df[present_labels].any(axis=1)\n",
    "        # Drop the additional synonym columns that are present\n",
    "        df.drop(columns=present_labels, inplace=True, errors='ignore')\n",
    "    return df\n",
    "\n",
    "mtat_metadata_df = consolidate_labels(mtat_metadata_df, synonyms)\n",
    "mtat_metadata_df.info()\n"
   ]
  },
  {
   "cell_type": "code",
   "execution_count": 23,
   "id": "af37880f84bbf1d9",
   "metadata": {
    "ExecuteTime": {
     "end_time": "2023-11-11T16:50:19.769391Z",
     "start_time": "2023-11-11T16:50:19.758359300Z"
    }
   },
   "outputs": [
    {
     "data": {
      "text/plain": [
       "(25863, 135)"
      ]
     },
     "execution_count": 23,
     "metadata": {},
     "output_type": "execute_result"
    }
   ],
   "source": [
    "mtat_metadata_df.shape"
   ]
  },
  {
   "cell_type": "code",
   "execution_count": 24,
   "id": "e0c559618730ad76",
   "metadata": {
    "ExecuteTime": {
     "end_time": "2023-11-11T16:50:21.581335100Z",
     "start_time": "2023-11-11T16:50:20.971859400Z"
    }
   },
   "outputs": [],
   "source": [
    "mtat_metadata_df.to_csv('../data/mtat_label.csv')"
   ]
  },
  {
   "cell_type": "code",
   "execution_count": 25,
   "id": "518c6dd147ecb1ce",
   "metadata": {
    "ExecuteTime": {
     "end_time": "2023-11-11T16:20:39.060368600Z",
     "start_time": "2023-11-11T16:20:39.052534Z"
    }
   },
   "outputs": [],
   "source": [
    "gtzan_metadata_df.to_csv('../data/gtzan_label.csv')"
   ]
  }
 ],
 "metadata": {
  "kernelspec": {
   "display_name": "Python 3 (ipykernel)",
   "language": "python",
   "name": "python3"
  },
  "language_info": {
   "codemirror_mode": {
    "name": "ipython",
    "version": 3
   },
   "file_extension": ".py",
   "mimetype": "text/x-python",
   "name": "python",
   "nbconvert_exporter": "python",
   "pygments_lexer": "ipython3",
   "version": "3.11.5"
  }
 },
 "nbformat": 4,
 "nbformat_minor": 5
}
