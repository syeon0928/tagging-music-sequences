{
 "cells": [
  {
   "cell_type": "code",
   "execution_count": null,
   "outputs": [],
   "source": [
    "import torch\n",
    "import matplotlib.pyplot as plt\n",
    "\n",
    "import src.models as models\n",
    "from src.audio_dataset import get_dataloader\n",
    "from src.trainer import Trainer\n",
    "\n",
    "import pandas as pd\n",
    "import numpy as np\n",
    "import pickle"
   ],
   "metadata": {
    "collapsed": false
   },
   "id": "46ad622e660c49ba"
  },
  {
   "cell_type": "code",
   "execution_count": null,
   "outputs": [],
   "source": [
    "# Initialize the model\n",
    "device = torch.device(\"cuda\" if torch.cuda.is_available() else \"cpu\")\n",
    "# Trained on raw signal\n",
    "wavecnn5 = getattr(models, 'WaveCNN5')\n",
    "wavecnn5 = wavecnn5().to(device)\n",
    "\n",
    "wavecnn7 = getattr(models, 'WaveCNN7')\n",
    "wavecnn7 = wavecnn7().to(device)\n",
    "\n",
    "wavecnn9 = getattr(models, 'WaveCNN9')\n",
    "wavecnn9 = wavecnn9().to(device)\n",
    "\n",
    "# Trained on mel specs\n",
    "melcnn3 = getattr(models, 'FCN3')\n",
    "melcnn3 = melcnn3().to(device)\n",
    "\n",
    "melcnn4 = getattr(models, 'FCN4')\n",
    "melcnn4 = melcnn4().to(device)\n",
    "\n",
    "melcnn5 = getattr(models, 'FCN5')\n",
    "melcnn5 = melcnn5().to(device)\n",
    "\n",
    "melcnn7 = getattr(models, 'FCN7')\n",
    "melcnn7 = melcnn7().to(device)\n"
   ],
   "metadata": {
    "collapsed": false
   },
   "id": "initial_id"
  },
  {
   "cell_type": "code",
   "execution_count": null,
   "outputs": [],
   "source": [
    "# Initialize the Trainer\n",
    "# Trained on raw signal\n",
    "trainer5 = Trainer(wavecnn5, train_loader=None, valid_loader=None, learning_rate=0.001, device=device)\n",
    "trainer5.load_model('../models/WaveCNN5_final_no_L2_20231129-0723.pth')\n",
    "\n",
    "trainer5_l2 = Trainer(wavecnn5, train_loader=None, valid_loader=None, learning_rate=0.001, device=device)\n",
    "trainer5_l2.load_model('../models/WaveCNN5_final_20231202-0017.pth')\n",
    "\n",
    "trainer7 = Trainer(wavecnn7, train_loader=None, valid_loader=None, learning_rate=0.001, device=device)\n",
    "trainer7.load_model('../models/WaveCNN7_final_no_L2_20231129-0825.pth')\n",
    "\n",
    "trainer7_l2 = Trainer(wavecnn7, train_loader=None, valid_loader=None, learning_rate=0.001, device=device)\n",
    "trainer7_l2.load_model('../models/WaveCNN7_final_20231202-0259.pth')\n",
    "\n",
    "trainer9 = Trainer(wavecnn9, train_loader=None, valid_loader=None, learning_rate=0.001, device=device)\n",
    "trainer9.load_model('../models/WaveCNN9_final_no_L2_20231130-2232.pth')\n",
    "\n",
    "trainer9_l2 = Trainer(wavecnn9, train_loader=None, valid_loader=None, learning_rate=0.001, device=device)\n",
    "trainer9_l2.load_model('../models/WaveCNN9_final_20231202-0251.pth')\n",
    "\n",
    "# Trained on mel specs\n",
    "trainer_mel3 = Trainer(melcnn3, train_loader=None, valid_loader=None, learning_rate=0.001, device=device)\n",
    "trainer_mel3.load_model('../models/FCN3_final_no_l2_20231130-2114.pth')\n",
    "\n",
    "trainer_mel3_l2 = Trainer(melcnn3, train_loader=None, valid_loader=None, learning_rate=0.001, device=device)\n",
    "trainer_mel3_l2.load_model('../models/FCN3_final_l2_20231201-2129.pth')\n",
    "\n",
    "trainer_mel4 = Trainer(melcnn4, train_loader=None, valid_loader=None, learning_rate=0.001, device=device)\n",
    "trainer_mel4.load_model('../models/FCN4_final_no_l2_20231201-2219.pth')\n",
    "\n",
    "trainer_mel4_l2 = Trainer(melcnn4, train_loader=None, valid_loader=None, learning_rate=0.001, device=device)\n",
    "trainer_mel4_l2.load_model('../models/FCN4_final_l2_20231201-2126.pth')\n",
    "\n",
    "trainer_mel5 = Trainer(melcnn5, train_loader=None, valid_loader=None, learning_rate=0.001, device=device)\n",
    "trainer_mel5.load_model('../models/FCN5_final_no_L2_20231130-1948.pth')\n",
    "\n",
    "trainer_mel5_l2 = Trainer(melcnn5, train_loader=None, valid_loader=None, learning_rate=0.001, device=device)\n",
    "trainer_mel5_l2.load_model('../models/FCN5_final_l2_20231201-2127.pth')\n",
    "\n",
    "trainer_mel7_l2 = Trainer(melcnn7, train_loader=None, valid_loader=None, learning_rate=0.001, device=device)\n",
    "trainer_mel7_l2.load_model('../models/FCN7_final_l2_20231201-2215.pth')"
   ],
   "metadata": {
    "collapsed": false
   },
   "id": "92f81352cc8417ef"
  },
  {
   "cell_type": "code",
   "execution_count": null,
   "outputs": [],
   "source": [
    "# TODO @Luca, feel free to play around with plotting multiple models to show overfitting still\n",
    "\n",
    "# Models\n",
    "m = trainer5\n",
    "n = trainer5_l2\n",
    "\n",
    "# Epoch range\n",
    "epochs = range(1, 51) \n",
    "\n",
    "plt.figure(figsize=(12, 10))\n",
    "\n",
    "# Plot for first model\n",
    "plt.plot(epochs, m.history['train_loss'], 'b-', label='Model Without L2: Training Loss')\n",
    "plt.plot(epochs, m.history['val_loss'], 'b--', label='Model Without L2: Validation Loss')\n",
    "\n",
    "# Plot for second model\n",
    "plt.plot(epochs, n.history['train_loss'], 'r-', label='Model With L2: Training Loss')\n",
    "plt.plot(epochs, n.history['val_loss'], 'r--', label='Model With L2: Validation Loss')\n",
    "\n",
    "plt.title('Training and Validation Loss over Epochs')\n",
    "plt.xlabel('Epochs')\n",
    "plt.ylabel('Loss')\n",
    "plt.legend()\n",
    "\n",
    "plt.show()\n"
   ],
   "metadata": {
    "collapsed": false
   },
   "id": "6a6698015eb278f4"
  },
  {
   "cell_type": "code",
   "execution_count": null,
   "outputs": [],
   "source": [
    "# Sample data\n",
    "# Replace these with your actual data\n",
    "epochs = range(1, 51)  # Example epoch range from 1 to 10\n",
    "\n",
    "# Plotting\n",
    "plt.figure(figsize=(12, 5))\n",
    "\n",
    "# Plot for val_roc_auc\n",
    "plt.subplot(1, 2, 1)  # 1 row, 2 columns, first subplot\n",
    "plt.plot(epochs, trainer5.history['val_roc_auc'], label='Wavefrom CNN 5 Layers ROC AUC')\n",
    "plt.plot(epochs, trainer7.history['val_roc_auc'], label='Wavefrom CNN 7 Layers ROC AUC')\n",
    "plt.plot(epochs, trainer9.history['val_roc_auc'], label='Wavefrom CNN 9 Layers ROC AUC')\n",
    "plt.plot(epochs, trainer_mel3.history['val_roc_auc'], label='MelSpectogram FCN 3 Layers ROC AUC')\n",
    "plt.plot(epochs, trainer_mel4.history['val_roc_auc'], label='MelSpectogram FCN 4 Layers ROC AUC')\n",
    "plt.plot(epochs, trainer_mel5.history['val_roc_auc'], label='MelSpectogram FCN 5 Layers ROC AUC')\n",
    "plt.title('Validation ROC AUC over Epochs')\n",
    "plt.xlabel('Epochs')\n",
    "plt.ylabel('ROC AUC')\n",
    "plt.legend()\n",
    "\n",
    "# Plot for val_pr_auc\n",
    "plt.subplot(1, 2, 2)  # 1 row, 2 columns, second subplot\n",
    "plt.plot(epochs, trainer5.history['val_pr_auc'], label='Wavefrom CNN 5 Layers PR AUC')\n",
    "plt.plot(epochs, trainer7.history['val_pr_auc'], label='Wavefrom CNN 7 Layers PR AUC')\n",
    "plt.plot(epochs, trainer9.history['val_pr_auc'], label='Wavefrom CNN 9 Layers PR AUC')\n",
    "plt.plot(epochs, trainer_mel3.history['val_pr_auc'], label='MelSpectogram FCN 3 Layers PR AUC')\n",
    "plt.plot(epochs, trainer_mel4.history['val_pr_auc'], label='MelSpectogram FCN 4 Layers PR AUC')\n",
    "plt.plot(epochs, trainer_mel5.history['val_pr_auc'], label='MelSpectogram FCN 5 Layers PR AUC')\n",
    "plt.title('Validation PR AUC over Epochs')\n",
    "plt.xlabel('Epochs')\n",
    "plt.ylabel('PR AUC')\n",
    "plt.legend()\n",
    "\n",
    "plt.tight_layout()\n",
    "plt.show()"
   ],
   "metadata": {
    "collapsed": false
   },
   "id": "11462eed88f7bf51"
  },
  {
   "cell_type": "code",
   "execution_count": null,
   "outputs": [],
   "source": [
    "# Same for with L2\n",
    "# Replace these with your actual data\n",
    "epochs = range(1, 51)  # Example epoch range from 1 to 10\n",
    "\n",
    "# Plotting\n",
    "plt.figure(figsize=(12, 5))\n",
    "\n",
    "# Plot for val_roc_auc\n",
    "plt.subplot(1, 2, 1)  # 1 row, 2 columns, first subplot\n",
    "plt.plot(epochs, trainer5_l2.history['val_roc_auc'], label='Wavefrom CNN 5 Layers L2 Reg ROC AUC')\n",
    "plt.plot(epochs, trainer7_l2.history['val_roc_auc'], label='Wavefrom CNN 7 Layers L2 Reg ROC AUC')\n",
    "plt.plot(epochs, trainer9_l2.history['val_roc_auc'], label='Wavefrom CNN 9 Layers L2 Reg ROC AUC')\n",
    "plt.plot(epochs, trainer_mel3_l2.history['val_roc_auc'], label='MelSpectogram FCN 3 Layers L2 Reg ROC AUC')\n",
    "plt.plot(epochs, trainer_mel4_l2.history['val_roc_auc'], label='MelSpectogram FCN 4 Layers L2 Reg ROC AUC')\n",
    "plt.plot(epochs, trainer_mel5_l2.history['val_roc_auc'], label='MelSpectogram FCN 5 Layers L2 Reg ROC AUC')\n",
    "plt.plot(epochs, trainer_mel7_l2.history['val_roc_auc'], label='MelSpectogram FCN 7 Layers L2 Reg ROC AUC')\n",
    "plt.title('Validation ROC AUC over Epochs')\n",
    "plt.xlabel('Epochs')\n",
    "plt.ylabel('ROC AUC')\n",
    "plt.legend()\n",
    "\n",
    "# Plot for val_pr_auc\n",
    "plt.subplot(1, 2, 2)  # 1 row, 2 columns, second subplot\n",
    "plt.plot(epochs, trainer5_l2.history['val_pr_auc'], label='Wavefrom CNN 5 Layers L2 Reg PR AUC')\n",
    "plt.plot(epochs, trainer7_l2.history['val_pr_auc'], label='Wavefrom CNN 7 Layers L2 Reg PR AUC')\n",
    "plt.plot(epochs, trainer9_l2.history['val_pr_auc'], label='Wavefrom CNN 9 Layers L2 Reg PR AUC')\n",
    "plt.plot(epochs, trainer_mel3_l2.history['val_pr_auc'], label='MelSpectogram FCN 3 Layers L2 Reg PR AUC')\n",
    "plt.plot(epochs, trainer_mel4_l2.history['val_pr_auc'], label='MelSpectogram FCN 4 Layers L2 Reg PR AUC')\n",
    "plt.plot(epochs, trainer_mel5_l2.history['val_pr_auc'], label='MelSpectogram FCN 5 Layers L2 Reg PR AUC')\n",
    "plt.plot(epochs, trainer_mel7_l2.history['val_pr_auc'], label='MelSpectogram FCN 7 Layers L2 Reg PR AUC')\n",
    "plt.title('Validation PR AUC over Epochs')\n",
    "plt.xlabel('Epochs')\n",
    "plt.ylabel('PR AUC')\n",
    "plt.legend()\n",
    "\n",
    "plt.tight_layout()\n",
    "plt.show()\n"
   ],
   "metadata": {
    "collapsed": false
   },
   "id": "e45c32209419c457"
  },
  {
   "cell_type": "markdown",
   "source": [
    "### Evaluate"
   ],
   "metadata": {
    "collapsed": false
   },
   "id": "b037e14e3a31f3f0"
  },
  {
   "cell_type": "code",
   "execution_count": null,
   "outputs": [],
   "source": [
    "test_annotations = 'mtat_test_label.csv'\n",
    "data_dir = '../data'\n",
    "    \n",
    "# Ealuate the model on the test set\n",
    "test_loader = get_dataloader(\n",
    "    annotations_file=test_annotations,\n",
    "    data_dir=data_dir,\n",
    "    batch_size=32,\n",
    "    shuffle=False,\n",
    "    num_workers=0,\n",
    "    sample_rate=16000,\n",
    "    target_length=29.1,\n",
    ")\n"
   ],
   "metadata": {
    "collapsed": false
   },
   "id": "ba221de392f50949"
  },
  {
   "cell_type": "code",
   "execution_count": null,
   "outputs": [],
   "source": [
    "# Instantiate models and load BEST model (THIS TIME BEST MODEL INSTEAD OF FINAL MODEL)\n",
    "# load only best model (see filenames) to ensure we evaluate with best epoch\n",
    "# only use regularized models\n",
    "# raw\n",
    "trainer5_l2 = Trainer(wavecnn5, train_loader=None, valid_loader=None, learning_rate=0.001, device=device)\n",
    "trainer5_l2.load_model('../models/WaveCNN5_best_20231202-0017.pth')\n",
    "\n",
    "trainer7_l2 = Trainer(wavecnn7, train_loader=None, valid_loader=None, learning_rate=0.001, device=device)\n",
    "trainer7_l2.load_model('../models/WaveCNN7_best_20231202-0259.pth')\n",
    "\n",
    "trainer9_l2 = Trainer(wavecnn9, train_loader=None, valid_loader=None, learning_rate=0.001, device=device)\n",
    "trainer9_l2.load_model('../models/WaveCNN9_best_20231202-0251.pth')\n",
    "\n",
    "# spec\n",
    "trainer_mel3_l2 = Trainer(melcnn3, train_loader=None, valid_loader=None, learning_rate=0.001, device=device)\n",
    "trainer_mel3_l2.load_model('../models/FCN3_best_l2_20231201-2129.pth')\n",
    "\n",
    "trainer_mel4_l2 = Trainer(melcnn4, train_loader=None, valid_loader=None, learning_rate=0.001, device=device)\n",
    "trainer_mel4_l2.load_model('../models/FCN4_best_l2_20231201-2126.pth')\n",
    "\n",
    "trainer_mel5_l2 = Trainer(melcnn5, train_loader=None, valid_loader=None, learning_rate=0.001, device=device)\n",
    "trainer_mel5_l2.load_model('../models/FCN5_best_l2_20231201-2127.pth')\n",
    "\n",
    "trainer_mel7_l2 = Trainer(melcnn7, train_loader=None, valid_loader=None, learning_rate=0.001, device=device)\n",
    "trainer_mel7_l2.load_model('../models/FCN7_best_l2_20231201-2215.pth')\n"
   ],
   "metadata": {
    "collapsed": false
   },
   "id": "4f509a1048d2ed33"
  },
  {
   "cell_type": "markdown",
   "source": [
    "# Load evaluation metrics (will take long, maybe split into different cells)\n",
    "# TODO @Luca adjust variables\n",
    "avg_loss, roc_auc, pr_auc, predicted_labels, true_labels, filepaths = trainer5_l2.evaluate(test_loader)\n",
    "avg_loss, roc_auc, pr_auc, predicted_labels, true_labels, filepaths = trainer7_l2.evaluate(test_loader)\n",
    "avg_loss, roc_auc, pr_auc, predicted_labels, true_labels, filepaths = trainer9_l2.evaluate(test_loader)\n",
    "\n",
    "avg_loss, roc_auc, pr_auc, predicted_labels, true_labels, filepaths = trainer_mel3_l2.evaluate(test_loader)\n",
    "avg_loss, roc_auc, pr_auc, predicted_labels, true_labels, filepaths = trainer_mel4_l2.evaluate(test_loader)\n",
    "avg_loss, roc_auc, pr_auc, predicted_labels, true_labels, filepaths = trainer_mel5_l2.evaluate(test_loader)\n",
    "avg_loss, roc_auc, pr_auc, predicted_labels, true_labels, filepaths = trainer_mel7_l2.evaluate(test_loader)"
   ],
   "metadata": {
    "collapsed": false
   },
   "id": "9e2031f3b603dd6c"
  },
  {
   "cell_type": "markdown",
   "source": [
    "## Run evaluation on test set"
   ],
   "metadata": {
    "collapsed": false
   },
   "id": "aae777ad1d393750"
  },
  {
   "cell_type": "code",
   "execution_count": null,
   "outputs": [],
   "source": [
    "# Dictionary to store evaluation results\n",
    "evaluation_results = {}"
   ],
   "metadata": {
    "collapsed": false
   },
   "id": "8b7538248db8498b"
  },
  {
   "cell_type": "code",
   "execution_count": null,
   "outputs": [],
   "source": [
    "evaluation_results['trainer5_l2'] = trainer5_l2.evaluate(test_loader)"
   ],
   "metadata": {
    "collapsed": false
   },
   "id": "bc830fa4965e83af"
  },
  {
   "cell_type": "code",
   "execution_count": null,
   "outputs": [],
   "source": [
    "evaluation_results['trainer7_l2'] = trainer7_l2.evaluate(test_loader)"
   ],
   "metadata": {
    "collapsed": false
   },
   "id": "76190c291eae6ad7"
  },
  {
   "cell_type": "code",
   "execution_count": null,
   "outputs": [],
   "source": [
    "evaluation_results['trainer9_l2'] = trainer9_l2.evaluate(test_loader)"
   ],
   "metadata": {
    "collapsed": false
   },
   "id": "b56e3ce6c0e4e852"
  },
  {
   "cell_type": "code",
   "execution_count": null,
   "outputs": [],
   "source": [
    "evaluation_results['trainer_mel3_l2'] = trainer_mel3_l2.evaluate(test_loader)"
   ],
   "metadata": {
    "collapsed": false
   },
   "id": "2b959a88765116fd"
  },
  {
   "cell_type": "code",
   "execution_count": null,
   "outputs": [],
   "source": [
    "evaluation_results['trainer_mel4_l2'] = trainer_mel4_l2.evaluate(test_loader)"
   ],
   "metadata": {
    "collapsed": false
   },
   "id": "74dbecaf20c4b6c1"
  },
  {
   "cell_type": "code",
   "execution_count": null,
   "outputs": [],
   "source": [
    "evaluation_results['trainer_mel5_l2'] = trainer_mel5_l2.evaluate(test_loader)"
   ],
   "metadata": {
    "collapsed": false
   },
   "id": "deb46db9bd9d7f32"
  },
  {
   "cell_type": "code",
   "execution_count": null,
   "outputs": [],
   "source": [
    "evaluation_results['trainer_mel7_l2'] = trainer_mel7_l2.evaluate(test_loader)"
   ],
   "metadata": {
    "collapsed": false
   },
   "id": "df0f3509f3c36d2d"
  },
  {
   "cell_type": "code",
   "execution_count": null,
   "outputs": [],
   "source": [
    "# Assuming `evaluation_results` is your dictionary\n",
    "with open('evaluation_results.pkl', 'wb') as file:\n",
    "    pickle.dump(evaluation_results, file)"
   ],
   "metadata": {
    "collapsed": false
   },
   "id": "d577abe3ac000ee8"
  }
 ],
 "metadata": {
  "kernelspec": {
   "display_name": "Python 3",
   "language": "python",
   "name": "python3"
  },
  "language_info": {
   "codemirror_mode": {
    "name": "ipython",
    "version": 2
   },
   "file_extension": ".py",
   "mimetype": "text/x-python",
   "name": "python",
   "nbconvert_exporter": "python",
   "pygments_lexer": "ipython2",
   "version": "2.7.6"
  }
 },
 "nbformat": 4,
 "nbformat_minor": 5
}
